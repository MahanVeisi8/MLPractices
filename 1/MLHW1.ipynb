{
  "cells": [
    {
      "cell_type": "markdown",
      "metadata": {
        "id": "VqUSo0FXGaoy"
      },
      "source": [
        "#**Practice Number 1**"
      ]
    },
    {
      "cell_type": "markdown",
      "source": [
        "# **Q1**"
      ],
      "metadata": {
        "id": "-bFuEXqKXcIY"
      }
    },
    {
      "cell_type": "markdown",
      "metadata": {
        "id": "u9sfsLhHGtEM"
      },
      "source": [
        "**In this exercise, we are looking for the implementation of a complete decision tree for the purpose of multi-class classification**"
      ]
    },
    {
      "cell_type": "markdown",
      "metadata": {
        "id": "JemfcRQE3XY4"
      },
      "source": [
        "so let's write the code of tree class, starting with describing a node class:"
      ]
    },
    {
      "cell_type": "code",
      "source": [
        "import numpy as np\n",
        "from sklearn.tree import DecisionTreeClassifier\n",
        "from sklearn.model_selection import train_test_split\n",
        "from sklearn.metrics import accuracy_score\n",
        "from sklearn.ensemble import RandomForestClassifier\n",
        "\n"
      ],
      "metadata": {
        "id": "DeA8yb0UXAPl"
      },
      "execution_count": 15,
      "outputs": []
    },
    {
      "cell_type": "code",
      "execution_count": null,
      "metadata": {
        "id": "JaUBcxlM3Ze8"
      },
      "outputs": [],
      "source": [
        "class node:\n",
        "  def __init__(self ,parent, left, right , values , column, threshhold):\n",
        "    self.parent:node = parent\n",
        "    self.left:node  = left\n",
        "    self.right:node = right\n",
        "    self.values:np.ndarray = values\n",
        "    self.column:int = column\n",
        "    self.threshhold:float = threshhold\n",
        "\n",
        "  def is_leaf(self):\n",
        "    if self.values is None:\n",
        "      return False\n",
        "    return True"
      ]
    },
    {
      "cell_type": "markdown",
      "metadata": {
        "id": "sH2ypxSHGLq9"
      },
      "source": [
        "the Decision tree code:"
      ]
    },
    {
      "cell_type": "code",
      "execution_count": null,
      "metadata": {
        "id": "A68inwuN3c3X"
      },
      "outputs": [],
      "source": [
        "class DecisionTree:\n",
        "    # Multiclass Decision Tree classifier\n",
        "\n",
        "    def __init__(self, min_samples_split=2, max_depth=5, n_features=None ):\n",
        "        \"\"\"\n",
        "        Initialize the Decision Tree model.\n",
        "        \"\"\"\n",
        "        self.n_features = n_features\n",
        "        self.max_depth=max_depth\n",
        "        self.min_samples_split=min_samples_split\n",
        "        self.tree = node(None, None, None, None, None, None) # self.root=None\n",
        "        self.number_of_classes = -1\n",
        "        self.classes = None\n",
        "\n",
        "    def fit(self, X, Y, max_depth=5, kind='best', sample_size=20):\n",
        "        \"\"\"\n",
        "        Fit the Decision Tree model to the provided data.\n",
        "\n",
        "        Args:\n",
        "        - X: Input features.\n",
        "        - Y: Labels.\n",
        "        - max_depth: Maximum depth of the decision tree.\n",
        "        - kind: 'best' for best split(check all the possible splits),\n",
        "         'random' for random split(check sample_size candidates for the splits on each column).\n",
        "        - sample_size: Number of random samples to consider for splitting (for 'random' kind).\n",
        "\n",
        "        Returns:\n",
        "        - None\n",
        "\n",
        "        Example:\n",
        "        >>> tree = DecisionTree()\n",
        "        >>> X = np.array([[1, 2], [2, 3], [3, 4]])\n",
        "        >>> Y = np.array([0, 1, 2])\n",
        "        >>> tree.fit(X, Y, max_depth=5, kind='best', sample_size=20)\n",
        "        \"\"\"\n",
        "        self.n_features=X.shape[1]\n",
        "        self.classes = np.unique(Y)\n",
        "        self.number_of_classes = len(self.classes)\n",
        "        self.tree = self._tree_builder(X, Y, max_depth, kind, sample_size)\n",
        "\n",
        "\n",
        "    def predict(self, X):\n",
        "        \"\"\"\n",
        "        Predict class labels for input data.\n",
        "\n",
        "        Args:\n",
        "        - X: Input features for prediction.\n",
        "\n",
        "        Returns:\n",
        "        - Predicted class labels.\n",
        "\n",
        "        Example:\n",
        "        >>> tree = DecisionTree()\n",
        "        >>> X = np.array([[2, 3], [3, 4]])\n",
        "        >>> predicted_labels = tree.predict(X)\n",
        "        \"\"\"\n",
        "        predicted_labels = []\n",
        "        for x in X:\n",
        "            label = self._predict_tree(self.tree, x)\n",
        "            predicted_labels.append(label)\n",
        "        return np.array(predicted_labels)\n",
        "\n",
        "    def _predict_tree(self, tree, X):\n",
        "        \"\"\"\n",
        "        Predict class labels for input data using the decision tree.\n",
        "        This function can be used recursively to buid the predictions.\n",
        "\n",
        "        Args:\n",
        "        - tree: Current decision tree node.\n",
        "        - X: Input data for prediction.\n",
        "\n",
        "        Returns:\n",
        "        - Predicted class labels.\n",
        "\n",
        "        Example:\n",
        "        >>> tree = DecisionTree()\n",
        "        >>> node = tree.tree\n",
        "        >>> X = np.array([[2, 3], [3, 4]])\n",
        "        >>> predicted_labels = tree._predict_tree(node, X)\n",
        "        \"\"\"\n",
        "        if tree.is_leaf():\n",
        "            return np.argmax(tree.values)\n",
        "        if X[tree.column] <= tree.threshold:\n",
        "            return self._predict_tree(tree.left, X)\n",
        "        else:\n",
        "            return self._predict_tree(tree.right, X)\n",
        "\n",
        "    def _tree_builder(self, tree, X, Y, depth):\n",
        "        \"\"\"\n",
        "        Build the Decision Tree recursively.\n",
        "\n",
        "        Args:\n",
        "        - tree: Current decision tree node.\n",
        "        - X: Input features for the current node.\n",
        "        - Y: Labels for the current node.\n",
        "        - depth: Current depth in the tree.\n",
        "\n",
        "        Returns:\n",
        "        - None\n",
        "\n",
        "        Example:\n",
        "        >>> tree = DecisionTree()\n",
        "        >>> node = tree.tree\n",
        "        >>> X = np.array([[1, 2], [2, 3], [3, 4]])\n",
        "        >>> Y = np.array([0, 1, 0])\n",
        "        >>> tree._tree_builder(node, X, Y, depth=1)\n",
        "        \"\"\"\n",
        "        if depth == 0 or len(np.unique(Y)) == 1:\n",
        "            self._build_leaf(tree, Y)\n",
        "        else:\n",
        "            if kind == 'best':\n",
        "                best_row, best_column, best_threshold = self._find_split(X, Y)\n",
        "            elif kind == 'random':\n",
        "                best_row, best_column, best_threshold = self._find_random_split(X, Y, sample_size)\n",
        "            left_indices = X[:, best_column] <= best_threshold\n",
        "            right_indices = X[:, best_column] > best_threshold\n",
        "            left_node = node(tree, None, None, None, None, None)\n",
        "            right_node = node(tree, None, None, None, None, None)\n",
        "            tree.column = best_column\n",
        "            tree.threshold = best_threshold\n",
        "            tree.left = left_node\n",
        "            tree.right = right_node\n",
        "            self._tree_builder(left_node, X[left_indices], Y[left_indices], depth - 1, kind, sample_size)\n",
        "            self._tree_builder(right_node, X[right_indices], Y[right_indices], depth - 1, kind, sample_size)\n",
        "\n",
        "\n",
        "    def _check_leaf(self, Y):\n",
        "        return len(np.unique(Y)) == 1\n",
        "\n",
        "    def _build_leaf(self, node, Y):\n",
        "        \"\"\"\n",
        "        Build a leaf node and assign class probabilities to node.values\n",
        "        according to Y values in this node.\n",
        "        The values must be an np.ndarray which the first index is\n",
        "        the probability of the sample in this node to belong to\n",
        "        class with label=self.classes[0] and so on for other indexes.\n",
        "\n",
        "        Args:\n",
        "        - node: Current decision tree node which is going to be a leaf.\n",
        "        - Y: Labels for the current node.\n",
        "\n",
        "        Returns:\n",
        "        - None\n",
        "\n",
        "        Example:\n",
        "        >>> tree = DecisionTree()\n",
        "        >>> node = tree.tree\n",
        "        >>> Y = np.array([0, 1, 0])\n",
        "        >>> tree._build_leaf(node, Y)\n",
        "        \"\"\"\n",
        "        node.values = np.zeros(self.number_of_classes)\n",
        "        for y in Y:\n",
        "            node.values[y] += 1\n",
        "        node.values /= len(Y)\n",
        "\n",
        "    def _calculate_entropy(self, labels):\n",
        "        \"\"\"\n",
        "        Calculate the entropy of a set of labels.\n",
        "\n",
        "        Args:\n",
        "        - labels: Input labels.\n",
        "\n",
        "        Returns:\n",
        "        - Entropy value.\n",
        "\n",
        "        Example:\n",
        "        >>> tree = DecisionTree()\n",
        "        >>> labels = np.array([0, 1, 0, 1, 1])\n",
        "        >>> entropy = tree._calculate_entropy(labels)\n",
        "        \"\"\"\n",
        "        unique_labels, counts = np.unique(labels, return_counts=True)\n",
        "        probabilities = counts / len(labels)\n",
        "        entropy = -np.sum(probabilities * np.log2(probabilities))\n",
        "        return entropy\n",
        "\n",
        "    def _information_gain(self, X, Y, column, row):\n",
        "        \"\"\"\n",
        "        Calculate information gain for a potential split.\n",
        "\n",
        "        Args:\n",
        "        - X: Input features for the split.\n",
        "        - Y: Labels for the split.\n",
        "        - column: Column index for the split.\n",
        "        - row: row index for the split.\n",
        "\n",
        "        Returns:\n",
        "        - Information gain value.\n",
        "\n",
        "        Example:\n",
        "        >>> tree = DecisionTree()\n",
        "        >>> X = np.array([[1, 2], [2, 3], [3, 4]])\n",
        "        >>> Y = np.array([0, 1, 0])\n",
        "        >>> gain = tree._information_gain(X, Y, column=1, threshold=2)\n",
        "        \"\"\"\n",
        "        total_entropy = self._calculate_entropy(Y)\n",
        "        left_indices = X[:, column] <= threshold\n",
        "        right_indices = X[:, column] > threshold\n",
        "        left_entropy = self._calculate_entropy(Y[left_indices])\n",
        "        right_entropy = self._calculate_entropy(Y[right_indices])\n",
        "        weighted_entropy = (len(Y[left_indices]) / len(Y)) * left_entropy + (len(Y[right_indices]) / len(Y)) * right_entropy\n",
        "        information_gain = total_entropy - weighted_entropy\n",
        "        return information_gain\n",
        "\n",
        "    def _find_split(self, X, Y):\n",
        "        \"\"\"\n",
        "        Find the best or best random split for the decision tree.\n",
        "        Remember that there are two versions of this function according to the\n",
        "        'kind' and 'sample_size' arguments that are provided to the constructor.\n",
        "        The random samples must be in the range of the values in the dataset and\n",
        "        they must be unique. The sample_size is an upper bound, as\n",
        "        the unique values might be less than sample_size.\n",
        "\n",
        "\n",
        "        Args:\n",
        "        - X: Input features for the split.\n",
        "        - Y: Labels for the split.\n",
        "\n",
        "        Returns:\n",
        "        - Tuple (best_row, best_column) representing the chosen split.\n",
        "\n",
        "        Example:\n",
        "        >>> tree = DecisionTree()\n",
        "        >>> X = np.array([[1, 2], [2, 3], [3, 4]])\n",
        "        >>> Y = np.array([0, 1, 0])\n",
        "        >>> split = tree._find_split(X, Y)\n",
        "        \"\"\"\n",
        "        best_information_gain = 0\n",
        "        best_column = 0\n",
        "        best_threshold = 0\n",
        "        for column in range(X.shape[1]):\n",
        "            unique_values = np.unique(X[:, column])\n",
        "            for threshold in unique_values:\n",
        "                information_gain = self._information_gain(X, Y, column, threshold)\n",
        "                if information_gain > best_information_gain:\n",
        "                    best_information_gain = information_gain\n",
        "                    best_column = column\n",
        "                    best_threshold = threshold\n",
        "        return best_column, best_threshold\n",
        "\n",
        "\n",
        "    def _find_random_split(self, X, Y, sample_size):\n",
        "        best_information_gain = 0\n",
        "        best_column = 0\n",
        "        best_threshold = 0\n",
        "        for _ in range(sample_size):\n",
        "            column = np.random.randint(0, X.shape[1])\n",
        "            threshold = np.random.choice(np.unique(X[:, column]))\n",
        "            information_gain = self._information_gain(X, Y, column, threshold)\n",
        "            if information_gain > best_information_gain:\n",
        "                best_information_gain = information_gain\n",
        "                best_column = column\n",
        "                best_threshold = threshold\n",
        "        return best_column, best_threshold"
      ]
    },
    {
      "cell_type": "markdown",
      "metadata": {
        "id": "a60UITMuGXje"
      },
      "source": [
        "##**b)**"
      ]
    },
    {
      "cell_type": "code",
      "execution_count": 2,
      "metadata": {
        "id": "rEmz1QFTn5jO",
        "colab": {
          "base_uri": "https://localhost:8080/"
        },
        "outputId": "8a006bcd-349d-494c-eb58-ec320387109f"
      },
      "outputs": [
        {
          "output_type": "stream",
          "name": "stdout",
          "text": [
            "Drive already mounted at /content/drive; to attempt to forcibly remount, call drive.mount(\"/content/drive\", force_remount=True).\n"
          ]
        }
      ],
      "source": [
        "from google.colab import drive\n",
        "drive.mount('/content/drive')"
      ]
    },
    {
      "cell_type": "code",
      "execution_count": 16,
      "metadata": {
        "id": "9FrCOQJbGZHQ"
      },
      "outputs": [],
      "source": [
        "X_data = np.load('x.npy')\n",
        "Y_data = np.load('y.npy')"
      ]
    },
    {
      "cell_type": "code",
      "execution_count": null,
      "metadata": {
        "colab": {
          "base_uri": "https://localhost:8080/"
        },
        "id": "a4QagJEXMzG_",
        "outputId": "a40b5f88-3a75-4bd3-e736-11a2b869d158"
      },
      "outputs": [
        {
          "output_type": "stream",
          "name": "stdout",
          "text": [
            "(4500, 40)\n",
            "(4500,)\n"
          ]
        }
      ],
      "source": [
        "print(X_data.shape)\n",
        "print(Y_data.shape)"
      ]
    },
    {
      "cell_type": "code",
      "execution_count": null,
      "metadata": {
        "colab": {
          "base_uri": "https://localhost:8080/"
        },
        "id": "ZmAnkT7bFWnZ",
        "outputId": "29c57df7-82ae-4afe-9231-a6a7336644cd"
      },
      "outputs": [
        {
          "output_type": "stream",
          "name": "stdout",
          "text": [
            "[-2.28087808  1.40445145 -0.99437421  0.99602129  0.05256949 -0.03084608\n",
            "  1.07045019  0.21069894 -0.78678522  0.45719949 -1.24953476 -0.47939487\n",
            "  0.74030493 -1.00633932  1.35236668  1.14646061 -0.38411122 -0.75723019\n",
            "  0.15390891  0.2572354   2.12006825  1.0670231  -0.72455692 -0.38260781\n",
            "  0.0326524  -0.78081216  0.162962   -0.53618321  0.91135563 -0.49351301\n",
            " -0.26600688 -0.78670282  0.33922651 -0.51411719  0.09354478  0.18864781\n",
            " -0.60825539 -1.36477942 -1.37765935  1.00076637]\n",
            "1\n"
          ]
        }
      ],
      "source": [
        "print(X_data[0])\n",
        "print(Y_data[0])"
      ]
    },
    {
      "cell_type": "markdown",
      "metadata": {
        "id": "85hmTa3GOO4q"
      },
      "source": [
        "**First let's create and check the results for some models of DecisionTreeClassifier**"
      ]
    },
    {
      "cell_type": "code",
      "execution_count": null,
      "metadata": {
        "colab": {
          "base_uri": "https://localhost:8080/",
          "height": 91
        },
        "id": "yCBw1rz8Lsb_",
        "outputId": "dac1e7a6-a471-4159-cf11-7af8d916d88a"
      },
      "outputs": [
        {
          "output_type": "execute_result",
          "data": {
            "text/plain": [
              "DecisionTreeClassifier(criterion='entropy', max_depth=10, min_samples_leaf=2,\n",
              "                       random_state=42)"
            ],
            "text/html": [
              "<style>#sk-container-id-2 {color: black;background-color: white;}#sk-container-id-2 pre{padding: 0;}#sk-container-id-2 div.sk-toggleable {background-color: white;}#sk-container-id-2 label.sk-toggleable__label {cursor: pointer;display: block;width: 100%;margin-bottom: 0;padding: 0.3em;box-sizing: border-box;text-align: center;}#sk-container-id-2 label.sk-toggleable__label-arrow:before {content: \"▸\";float: left;margin-right: 0.25em;color: #696969;}#sk-container-id-2 label.sk-toggleable__label-arrow:hover:before {color: black;}#sk-container-id-2 div.sk-estimator:hover label.sk-toggleable__label-arrow:before {color: black;}#sk-container-id-2 div.sk-toggleable__content {max-height: 0;max-width: 0;overflow: hidden;text-align: left;background-color: #f0f8ff;}#sk-container-id-2 div.sk-toggleable__content pre {margin: 0.2em;color: black;border-radius: 0.25em;background-color: #f0f8ff;}#sk-container-id-2 input.sk-toggleable__control:checked~div.sk-toggleable__content {max-height: 200px;max-width: 100%;overflow: auto;}#sk-container-id-2 input.sk-toggleable__control:checked~label.sk-toggleable__label-arrow:before {content: \"▾\";}#sk-container-id-2 div.sk-estimator input.sk-toggleable__control:checked~label.sk-toggleable__label {background-color: #d4ebff;}#sk-container-id-2 div.sk-label input.sk-toggleable__control:checked~label.sk-toggleable__label {background-color: #d4ebff;}#sk-container-id-2 input.sk-hidden--visually {border: 0;clip: rect(1px 1px 1px 1px);clip: rect(1px, 1px, 1px, 1px);height: 1px;margin: -1px;overflow: hidden;padding: 0;position: absolute;width: 1px;}#sk-container-id-2 div.sk-estimator {font-family: monospace;background-color: #f0f8ff;border: 1px dotted black;border-radius: 0.25em;box-sizing: border-box;margin-bottom: 0.5em;}#sk-container-id-2 div.sk-estimator:hover {background-color: #d4ebff;}#sk-container-id-2 div.sk-parallel-item::after {content: \"\";width: 100%;border-bottom: 1px solid gray;flex-grow: 1;}#sk-container-id-2 div.sk-label:hover label.sk-toggleable__label {background-color: #d4ebff;}#sk-container-id-2 div.sk-serial::before {content: \"\";position: absolute;border-left: 1px solid gray;box-sizing: border-box;top: 0;bottom: 0;left: 50%;z-index: 0;}#sk-container-id-2 div.sk-serial {display: flex;flex-direction: column;align-items: center;background-color: white;padding-right: 0.2em;padding-left: 0.2em;position: relative;}#sk-container-id-2 div.sk-item {position: relative;z-index: 1;}#sk-container-id-2 div.sk-parallel {display: flex;align-items: stretch;justify-content: center;background-color: white;position: relative;}#sk-container-id-2 div.sk-item::before, #sk-container-id-2 div.sk-parallel-item::before {content: \"\";position: absolute;border-left: 1px solid gray;box-sizing: border-box;top: 0;bottom: 0;left: 50%;z-index: -1;}#sk-container-id-2 div.sk-parallel-item {display: flex;flex-direction: column;z-index: 1;position: relative;background-color: white;}#sk-container-id-2 div.sk-parallel-item:first-child::after {align-self: flex-end;width: 50%;}#sk-container-id-2 div.sk-parallel-item:last-child::after {align-self: flex-start;width: 50%;}#sk-container-id-2 div.sk-parallel-item:only-child::after {width: 0;}#sk-container-id-2 div.sk-dashed-wrapped {border: 1px dashed gray;margin: 0 0.4em 0.5em 0.4em;box-sizing: border-box;padding-bottom: 0.4em;background-color: white;}#sk-container-id-2 div.sk-label label {font-family: monospace;font-weight: bold;display: inline-block;line-height: 1.2em;}#sk-container-id-2 div.sk-label-container {text-align: center;}#sk-container-id-2 div.sk-container {/* jupyter's `normalize.less` sets `[hidden] { display: none; }` but bootstrap.min.css set `[hidden] { display: none !important; }` so we also need the `!important` here to be able to override the default hidden behavior on the sphinx rendered scikit-learn.org. See: https://github.com/scikit-learn/scikit-learn/issues/21755 */display: inline-block !important;position: relative;}#sk-container-id-2 div.sk-text-repr-fallback {display: none;}</style><div id=\"sk-container-id-2\" class=\"sk-top-container\"><div class=\"sk-text-repr-fallback\"><pre>DecisionTreeClassifier(criterion=&#x27;entropy&#x27;, max_depth=10, min_samples_leaf=2,\n",
              "                       random_state=42)</pre><b>In a Jupyter environment, please rerun this cell to show the HTML representation or trust the notebook. <br />On GitHub, the HTML representation is unable to render, please try loading this page with nbviewer.org.</b></div><div class=\"sk-container\" hidden><div class=\"sk-item\"><div class=\"sk-estimator sk-toggleable\"><input class=\"sk-toggleable__control sk-hidden--visually\" id=\"sk-estimator-id-2\" type=\"checkbox\" checked><label for=\"sk-estimator-id-2\" class=\"sk-toggleable__label sk-toggleable__label-arrow\">DecisionTreeClassifier</label><div class=\"sk-toggleable__content\"><pre>DecisionTreeClassifier(criterion=&#x27;entropy&#x27;, max_depth=10, min_samples_leaf=2,\n",
              "                       random_state=42)</pre></div></div></div></div></div>"
            ]
          },
          "metadata": {},
          "execution_count": 66
        }
      ],
      "source": [
        "##1: create one with the default values which are:\n",
        "#    criterion: 'gini', splitter: 'best', max_depth: None, min_samples_split: 2, min_samples_leaf: 1\n",
        "#    random_state: None (when using best splitter it is not much useful but we set it to ensure having reproducibility),\n",
        "#    and some other hyperparameters\n",
        "#    for precise results we set the random_state to 42!\n",
        "dt1 = DecisionTreeClassifier(random_state=42)\n",
        "\n",
        "# Train the classifier on the training data\n",
        "dt1.fit(X_data, Y_data)\n",
        "\n",
        "\n",
        "##2: the second one is going to have some different hyperparameters but it is still using gini\n",
        "dt2 = DecisionTreeClassifier(\n",
        "    criterion='gini',\n",
        "    max_depth=10,\n",
        "    min_samples_split=2,\n",
        "    min_samples_leaf=2,\n",
        "    random_state=42\n",
        ")\n",
        "\n",
        "dt2.fit(X_data, Y_data)\n",
        "\n",
        "\n",
        "##3: now creating another model with information gain which we are going to have more focus on it\n",
        "dt3 = DecisionTreeClassifier(\n",
        "    criterion='entropy',\n",
        "    max_depth=None,\n",
        "    random_state=42\n",
        ")\n",
        "\n",
        "dt3.fit(X_data, Y_data)\n",
        "\n",
        "\n",
        "##4: finally creating a model with information gain having max_depth set to 10\n",
        "dt4 = DecisionTreeClassifier(\n",
        "    criterion='entropy',\n",
        "    max_depth=10,\n",
        "    min_samples_split=2,\n",
        "    min_samples_leaf=2,\n",
        "    random_state=42\n",
        ")\n",
        "\n",
        "dt4.fit(X_data, Y_data)"
      ]
    },
    {
      "cell_type": "markdown",
      "metadata": {
        "id": "txoYRCvARpne"
      },
      "source": [
        "Using the trained classifiers to make predictions on the test data.\n",
        "Note that we used all of our data for training and also the prediction is going to be about those data."
      ]
    },
    {
      "cell_type": "code",
      "execution_count": null,
      "metadata": {
        "id": "HnB2d0BlLzfN"
      },
      "outputs": [],
      "source": [
        "# Use the trained classifiers to make predictions on the test data\n",
        "# note ht\n",
        "predictions1 = dt1.predict(X_data)\n",
        "predictions2 = dt2.predict(X_data)\n",
        "predictions3 = dt3.predict(X_data)\n",
        "predictions4 = dt4.predict(X_data)\n"
      ]
    },
    {
      "cell_type": "markdown",
      "metadata": {
        "id": "C1hFed0WSC7J"
      },
      "source": [
        "It is time to checkout our models accuracy"
      ]
    },
    {
      "cell_type": "code",
      "execution_count": null,
      "metadata": {
        "colab": {
          "base_uri": "https://localhost:8080/"
        },
        "id": "UiVBHUrUL1Ks",
        "outputId": "0e5ae00f-1e21-4cb4-ea44-2a04345b7722"
      },
      "outputs": [
        {
          "output_type": "stream",
          "name": "stdout",
          "text": [
            "dt1's Accuracy using gini and max_depth=None:     1.0\n",
            "dt2's Accuracy using gini and max_depth=10:     0.8564444444444445\n",
            "dt3's Accuracy using entropy and max_depth=None:     1.0\n",
            "dt4's Accuracy using entropy and max_depth=10:     0.8711111111111111\n"
          ]
        }
      ],
      "source": [
        "accuracy1 = accuracy_score(Y_data, predictions1)\n",
        "print(\"dt1's Accuracy using gini and max_depth=None:    \", accuracy1)\n",
        "\n",
        "accuracy2 = accuracy_score(Y_data, predictions2)\n",
        "print(\"dt2's Accuracy using gini and max_depth=10:    \", accuracy2)\n",
        "\n",
        "accuracy3 = accuracy_score(Y_data, predictions3)\n",
        "print(\"dt3's Accuracy using entropy and max_depth=None:    \", accuracy3)\n",
        "\n",
        "accuracy4 = accuracy_score(Y_data, predictions4)\n",
        "print(\"dt4's Accuracy using entropy and max_depth=10:    \", accuracy4)\n"
      ]
    },
    {
      "cell_type": "markdown",
      "metadata": {
        "id": "TYTs5bA0SrMK"
      },
      "source": [
        "#### *the results should be like this:*\n",
        "\n",
        "*   dt1's Accuracy using gini and max_depth=None:       1.0\n",
        "---\n",
        "*   dt2's Accuracy using gini and max_depth=10:         0.8564444444444445\n",
        "---\n",
        "*   dt3's Accuracy using entropy and max_depth=None:    1.0\n",
        "---\n",
        "*   dt4's Accuracy using entropy and max_depth=10:      0.8711111111111111"
      ]
    },
    {
      "cell_type": "markdown",
      "metadata": {
        "id": "6PwVnuW3ds_-"
      },
      "source": [
        "#### Now we can use different hyperparameters using all of our data but is is a bit useless becuase when you are using all of your data, you don't have a measure for testing how well your model is doing. For example it in the question 1.b, it is written that we should try different paramters for these models and see which is best. But, when we are using all of our data, without considering the time problems, having a model with parameters like **max_depth=None** can fit all the data and accuracy is 100%! So I do this part of the parameter setting when I have split the data and have a test set.\n"
      ]
    },
    {
      "cell_type": "markdown",
      "metadata": {
        "id": "zNdbo_3Rfg0Q"
      },
      "source": [
        "####First, let's split our data. For testing the parameters, as our data's lentgh is just 4500, we use a **[60, 20, 20]** data set splitting."
      ]
    },
    {
      "cell_type": "code",
      "execution_count": null,
      "metadata": {
        "id": "Fp6VKDRgMONr"
      },
      "outputs": [],
      "source": [
        "X_train, X_rest, Y_train, Y_rest = train_test_split(X_data, Y_data, test_size=0.4, random_state=42)\n",
        "X_val, X_test, Y_val, Y_test = train_test_split(X_rest, Y_rest, test_size=0.5, random_state=42)"
      ]
    },
    {
      "cell_type": "code",
      "execution_count": null,
      "metadata": {
        "colab": {
          "base_uri": "https://localhost:8080/"
        },
        "id": "hWMUcTgxUBJf",
        "outputId": "8455c636-b289-43ca-e51d-7530362e2696"
      },
      "outputs": [
        {
          "output_type": "stream",
          "name": "stdout",
          "text": [
            "X_train size:    (2700, 40)\n",
            "X_val size:      (900, 40)\n",
            "X_test size:     (900, 40)\n"
          ]
        }
      ],
      "source": [
        "print(\"X_train size:\" + '    ' + str(X_train.shape) )\n",
        "print(\"X_val size:\" + '      ' + str(X_val.shape) )\n",
        "print(\"X_test size:\" + '     ' + str(X_test.shape) )"
      ]
    },
    {
      "cell_type": "markdown",
      "metadata": {
        "id": "lNMlaoCQVPeV"
      },
      "source": [
        "now let's check different **max_dapth** values"
      ]
    },
    {
      "cell_type": "code",
      "execution_count": null,
      "metadata": {
        "id": "-L6OsE_3UkP0"
      },
      "outputs": [],
      "source": [
        "def find_best_max_depth(X_train, y_train, X_val, y_val, max_depth_values):\n",
        "    best_depth = None\n",
        "    best_val_accuracy = 0\n",
        "    best_model = None\n",
        "    history = {'train': [], 'val': []}  # Dictionary to store training and validation accuracies for different depths\n",
        "\n",
        "    for depth in max_depth_values:\n",
        "        dt = DecisionTreeClassifier(criterion='entropy', max_depth=depth, random_state=42)\n",
        "\n",
        "        # Train and then predicting both train set and validation set\n",
        "        dt.fit(X_train, y_train)\n",
        "        y_train_pred = dt.predict(X_train)\n",
        "        training_accuracy = accuracy_score(y_train, y_train_pred)\n",
        "        y_val_pred = dt.predict(X_val)\n",
        "        validation_accuracy = accuracy_score(y_val, y_val_pred)\n",
        "        history['train'].append(training_accuracy)\n",
        "        history['val'].append(validation_accuracy)\n",
        "        # using the for returning the best model, it's depth, and it's accuracy\n",
        "        if validation_accuracy > best_val_accuracy:\n",
        "            best_val_accuracy = validation_accuracy\n",
        "            best_depth = depth\n",
        "            best_model = dt\n",
        "\n",
        "    return best_depth, best_model, best_val_accuracy, history\n"
      ]
    },
    {
      "cell_type": "markdown",
      "metadata": {
        "id": "f8JKAGPUYIon"
      },
      "source": [
        "now let's use the function"
      ]
    },
    {
      "cell_type": "code",
      "execution_count": null,
      "metadata": {
        "colab": {
          "base_uri": "https://localhost:8080/"
        },
        "id": "n43FhmyKWI_C",
        "outputId": "faf12d59-f01a-413f-afbf-98276486f5b4"
      },
      "outputs": [
        {
          "output_type": "stream",
          "name": "stdout",
          "text": [
            "Best Max Depth: 6\n",
            "Validation Accuracy with Best Model: 0.6689\n"
          ]
        }
      ],
      "source": [
        "max_depth_values = [i for i in range(2, 50, 2)]\n",
        "best_max_depth, best_model, best_accuracy, history = find_best_max_depth(X_train, Y_train, X_val, Y_val, max_depth_values)\n",
        "print(f\"Best Max Depth: {best_max_depth}\")\n",
        "print(f\"Validation Accuracy with Best Model: {best_accuracy:.4f}\")"
      ]
    },
    {
      "cell_type": "markdown",
      "metadata": {
        "id": "FBJbMgq6a2Ls"
      },
      "source": [
        "But let's checkout the history deeply"
      ]
    },
    {
      "cell_type": "markdown",
      "metadata": {
        "id": "wFajBsj8b2Pe"
      },
      "source": [
        "Now let's visualizing the history...\n",
        "\n",
        "Oh, but wait! in the **max_depth_values**, we have a None value! And we can not use it for plt.xticks. So we do a trick here!"
      ]
    },
    {
      "cell_type": "code",
      "execution_count": null,
      "metadata": {
        "colab": {
          "base_uri": "https://localhost:8080/",
          "height": 564
        },
        "id": "9Vj30r3AYhsm",
        "outputId": "f3e5aced-d5c1-4681-c042-a86193c17db9"
      },
      "outputs": [
        {
          "output_type": "display_data",
          "data": {
            "text/plain": [
              "<Figure size 1000x600 with 1 Axes>"
            ],
            "image/png": "[encoded data removed]"
          },
          "metadata": {}
        }
      ],
      "source": [
        "import matplotlib.pyplot as plt\n",
        "\n",
        "max_depth_values = [depth if depth is not None else np.inf for depth in max_depth_values]\n",
        "# Plotting training and validation accuracies\n",
        "plt.figure(figsize=(10, 6))\n",
        "plt.plot(max_depth_values, history['train'], marker='o', label='Training Accuracy')\n",
        "plt.plot(max_depth_values, history['val'], marker='o', label='Validation Accuracy')\n",
        "plt.xlabel('Max Depth')\n",
        "plt.ylabel('Accuracy')\n",
        "plt.title('Training and Validation Accuracies for Different Max Depths')\n",
        "plt.xticks(max_depth_values)\n",
        "plt.legend()\n",
        "plt.grid(True)\n",
        "plt.show()"
      ]
    },
    {
      "cell_type": "markdown",
      "source": [
        "now let's check the best hyperparameter for **min_sample_leaf**"
      ],
      "metadata": {
        "id": "nHFTmuIDDc3_"
      }
    },
    {
      "cell_type": "code",
      "source": [
        "def find_best_min_samples_leaf(X_train, y_train, X_val, y_val, min_samples_leaf_values):\n",
        "    best_min_samples_leaf = None\n",
        "    best_val_accuracy = 0\n",
        "    best_model = None\n",
        "    history = {'train': [], 'val': []}\n",
        "\n",
        "    for min_samples_leaf in min_samples_leaf_values:\n",
        "        dt = DecisionTreeClassifier(criterion='entropy', min_samples_leaf=min_samples_leaf, random_state=42)\n",
        "        dt.fit(X_train, y_train)\n",
        "        y_train_pred = dt.predict(X_train)\n",
        "        training_accuracy = accuracy_score(y_train, y_train_pred)\n",
        "        y_val_pred = dt.predict(X_val)\n",
        "        validation_accuracy = accuracy_score(y_val, y_val_pred)\n",
        "        history['train'].append(training_accuracy)\n",
        "        history['val'].append(validation_accuracy)\n",
        "        if validation_accuracy > best_val_accuracy:\n",
        "            best_val_accuracy = validation_accuracy\n",
        "            best_min_samples_leaf = min_samples_leaf\n",
        "            best_model = dt\n",
        "\n",
        "    return best_min_samples_leaf, best_model, best_val_accuracy, history\n",
        "\n",
        "min_samples_leaf_values = [1, 2, 3, 4, 5]\n",
        "best_min_samples_leaf, best_model, best_accuracy, history = find_best_min_samples_leaf(X_train, Y_train, X_val, Y_val, min_samples_leaf_values)\n",
        "\n",
        "print(f\"Best Min Samples Leaf: {best_min_samples_leaf}\")\n",
        "print(f\"Validation Accuracy with Best Model: {best_accuracy:.4f}\")\n",
        "\n",
        "plt.figure(figsize=(10, 6))\n",
        "plt.plot(min_samples_leaf_values, history['train'], marker='o', label='Training Accuracy')\n",
        "plt.plot(min_samples_leaf_values, history['val'], marker='o', label='Validation Accuracy')\n",
        "plt.xlabel('Min Samples Leaf')\n",
        "plt.ylabel('Accuracy')\n",
        "plt.title('Training and Validation Accuracies for Different Min Samples Leaf')\n",
        "plt.xticks(min_samples_leaf_values)\n",
        "plt.legend()\n",
        "plt.grid(True)\n",
        "plt.show()\n"
      ],
      "metadata": {
        "colab": {
          "base_uri": "https://localhost:8080/",
          "height": 599
        },
        "id": "aIoJC9yeEcnj",
        "outputId": "ff00dde4-4cfc-4330-d31f-b26a48571cb2"
      },
      "execution_count": null,
      "outputs": [
        {
          "output_type": "stream",
          "name": "stdout",
          "text": [
            "Best Min Samples Leaf: 3\n",
            "Validation Accuracy with Best Model: 0.6167\n"
          ]
        },
        {
          "output_type": "display_data",
          "data": {
            "text/plain": [
              "<Figure size 1000x600 with 1 Axes>"
            ],
            "image/png": "[encoded data removed]"
          },
          "metadata": {}
        }
      ]
    },
    {
      "cell_type": "markdown",
      "source": [
        "**So we saw that max_depth of 6 and min leaf from 1 to 3 can have a better performance on the validation set**. So let's see the resaults on the test set"
      ],
      "metadata": {
        "id": "RFhVAZmqEvRy"
      }
    },
    {
      "cell_type": "code",
      "source": [
        "dt = DecisionTreeClassifier(criterion='entropy', min_samples_leaf=2, max_depth=6, random_state=42)\n",
        "dt.fit(X_train, Y_train)\n",
        "y_pred = dt.predict(X_test)\n",
        "test_accuracy = accuracy_score(Y_test, y_pred)\n",
        "print(f\"Test Accuracy for a decision tree with max_depth-6 and min_samples_leaf=2: {test_accuracy:.4f}\")\n"
      ],
      "metadata": {
        "colab": {
          "base_uri": "https://localhost:8080/"
        },
        "id": "dT4RZ0-jFI8G",
        "outputId": "e2bbd524-002b-4e19-e980-b8a7f40eaa00"
      },
      "execution_count": null,
      "outputs": [
        {
          "output_type": "stream",
          "name": "stdout",
          "text": [
            "Test Accuracy for a decision tree with max_depth-6 and min_samples_leaf=2: 0.6689\n"
          ]
        }
      ]
    },
    {
      "cell_type": "markdown",
      "metadata": {
        "id": "t-jqhpdBSbsm"
      },
      "source": [
        "##**C)**"
      ]
    },
    {
      "cell_type": "markdown",
      "metadata": {
        "id": "9E65i7QTSnkQ"
      },
      "source": [
        "now it's time to use random forest\n",
        "we use a random forest having 100 trees with random state 42"
      ]
    },
    {
      "cell_type": "code",
      "execution_count": null,
      "metadata": {
        "colab": {
          "base_uri": "https://localhost:8080/",
          "height": 74
        },
        "id": "K4HgF_TeOerD",
        "outputId": "44cc4ef9-e57d-4776-b09a-1b6a89213e0d"
      },
      "outputs": [
        {
          "output_type": "execute_result",
          "data": {
            "text/plain": [
              "RandomForestClassifier(random_state=42)"
            ],
            "text/html": [
              "<style>#sk-container-id-2 {color: black;background-color: white;}#sk-container-id-2 pre{padding: 0;}#sk-container-id-2 div.sk-toggleable {background-color: white;}#sk-container-id-2 label.sk-toggleable__label {cursor: pointer;display: block;width: 100%;margin-bottom: 0;padding: 0.3em;box-sizing: border-box;text-align: center;}#sk-container-id-2 label.sk-toggleable__label-arrow:before {content: \"▸\";float: left;margin-right: 0.25em;color: #696969;}#sk-container-id-2 label.sk-toggleable__label-arrow:hover:before {color: black;}#sk-container-id-2 div.sk-estimator:hover label.sk-toggleable__label-arrow:before {color: black;}#sk-container-id-2 div.sk-toggleable__content {max-height: 0;max-width: 0;overflow: hidden;text-align: left;background-color: #f0f8ff;}#sk-container-id-2 div.sk-toggleable__content pre {margin: 0.2em;color: black;border-radius: 0.25em;background-color: #f0f8ff;}#sk-container-id-2 input.sk-toggleable__control:checked~div.sk-toggleable__content {max-height: 200px;max-width: 100%;overflow: auto;}#sk-container-id-2 input.sk-toggleable__control:checked~label.sk-toggleable__label-arrow:before {content: \"▾\";}#sk-container-id-2 div.sk-estimator input.sk-toggleable__control:checked~label.sk-toggleable__label {background-color: #d4ebff;}#sk-container-id-2 div.sk-label input.sk-toggleable__control:checked~label.sk-toggleable__label {background-color: #d4ebff;}#sk-container-id-2 input.sk-hidden--visually {border: 0;clip: rect(1px 1px 1px 1px);clip: rect(1px, 1px, 1px, 1px);height: 1px;margin: -1px;overflow: hidden;padding: 0;position: absolute;width: 1px;}#sk-container-id-2 div.sk-estimator {font-family: monospace;background-color: #f0f8ff;border: 1px dotted black;border-radius: 0.25em;box-sizing: border-box;margin-bottom: 0.5em;}#sk-container-id-2 div.sk-estimator:hover {background-color: #d4ebff;}#sk-container-id-2 div.sk-parallel-item::after {content: \"\";width: 100%;border-bottom: 1px solid gray;flex-grow: 1;}#sk-container-id-2 div.sk-label:hover label.sk-toggleable__label {background-color: #d4ebff;}#sk-container-id-2 div.sk-serial::before {content: \"\";position: absolute;border-left: 1px solid gray;box-sizing: border-box;top: 0;bottom: 0;left: 50%;z-index: 0;}#sk-container-id-2 div.sk-serial {display: flex;flex-direction: column;align-items: center;background-color: white;padding-right: 0.2em;padding-left: 0.2em;position: relative;}#sk-container-id-2 div.sk-item {position: relative;z-index: 1;}#sk-container-id-2 div.sk-parallel {display: flex;align-items: stretch;justify-content: center;background-color: white;position: relative;}#sk-container-id-2 div.sk-item::before, #sk-container-id-2 div.sk-parallel-item::before {content: \"\";position: absolute;border-left: 1px solid gray;box-sizing: border-box;top: 0;bottom: 0;left: 50%;z-index: -1;}#sk-container-id-2 div.sk-parallel-item {display: flex;flex-direction: column;z-index: 1;position: relative;background-color: white;}#sk-container-id-2 div.sk-parallel-item:first-child::after {align-self: flex-end;width: 50%;}#sk-container-id-2 div.sk-parallel-item:last-child::after {align-self: flex-start;width: 50%;}#sk-container-id-2 div.sk-parallel-item:only-child::after {width: 0;}#sk-container-id-2 div.sk-dashed-wrapped {border: 1px dashed gray;margin: 0 0.4em 0.5em 0.4em;box-sizing: border-box;padding-bottom: 0.4em;background-color: white;}#sk-container-id-2 div.sk-label label {font-family: monospace;font-weight: bold;display: inline-block;line-height: 1.2em;}#sk-container-id-2 div.sk-label-container {text-align: center;}#sk-container-id-2 div.sk-container {/* jupyter's `normalize.less` sets `[hidden] { display: none; }` but bootstrap.min.css set `[hidden] { display: none !important; }` so we also need the `!important` here to be able to override the default hidden behavior on the sphinx rendered scikit-learn.org. See: https://github.com/scikit-learn/scikit-learn/issues/21755 */display: inline-block !important;position: relative;}#sk-container-id-2 div.sk-text-repr-fallback {display: none;}</style><div id=\"sk-container-id-2\" class=\"sk-top-container\"><div class=\"sk-text-repr-fallback\"><pre>RandomForestClassifier(random_state=42)</pre><b>In a Jupyter environment, please rerun this cell to show the HTML representation or trust the notebook. <br />On GitHub, the HTML representation is unable to render, please try loading this page with nbviewer.org.</b></div><div class=\"sk-container\" hidden><div class=\"sk-item\"><div class=\"sk-estimator sk-toggleable\"><input class=\"sk-toggleable__control sk-hidden--visually\" id=\"sk-estimator-id-2\" type=\"checkbox\" checked><label for=\"sk-estimator-id-2\" class=\"sk-toggleable__label sk-toggleable__label-arrow\">RandomForestClassifier</label><div class=\"sk-toggleable__content\"><pre>RandomForestClassifier(random_state=42)</pre></div></div></div></div></div>"
            ]
          },
          "metadata": {},
          "execution_count": 66
        }
      ],
      "source": [
        "#implementing the random forest and then fitting the data\n",
        "random_forest = RandomForestClassifier(n_estimators=100, random_state=42)\n",
        "random_forest.fit(X_train, Y_train)"
      ]
    },
    {
      "cell_type": "markdown",
      "metadata": {
        "id": "JA1HuRkysE2n"
      },
      "source": [
        "After training, let's use our X_val and see what does the random forest predict. these data have not been used to be trained by the model before, so it can be a nice scale for our model's predication level  "
      ]
    },
    {
      "cell_type": "code",
      "execution_count": null,
      "metadata": {
        "colab": {
          "base_uri": "https://localhost:8080/"
        },
        "id": "c5Rbg52esD5n",
        "outputId": "14459816-973f-487f-921e-2150ac196400"
      },
      "outputs": [
        {
          "output_type": "stream",
          "name": "stdout",
          "text": [
            "X_val's shape: (900, 40)\n"
          ]
        }
      ],
      "source": [
        "print(\"X_val's shape: \" + str(X_val.shape))\n",
        "Y_pred_val = random_forest.predict(X_val)"
      ]
    },
    {
      "cell_type": "markdown",
      "metadata": {
        "id": "WGOuthBzr6Q0"
      },
      "source": [
        "now it's time to compare our predictions with our real data using the accuracy_score that have been imported"
      ]
    },
    {
      "cell_type": "code",
      "execution_count": null,
      "metadata": {
        "colab": {
          "base_uri": "https://localhost:8080/"
        },
        "id": "LR24pchOr39q",
        "outputId": "d87e270f-46ce-438a-f453-c748a5eb1937"
      },
      "outputs": [
        {
          "output_type": "stream",
          "name": "stdout",
          "text": [
            "Validation Accuracy with Random Forest: 0.7022222222222222\n"
          ]
        }
      ],
      "source": [
        "accuracy = accuracy_score(Y_val, Y_pred_val)\n",
        "print(f\"Validation Accuracy with Random Forest: {accuracy}\")"
      ]
    },
    {
      "cell_type": "markdown",
      "metadata": {
        "id": "PjO3xck6uVPb"
      },
      "source": [
        "As described in the question, we have to use learning curve for checking out model's perfomance.\n",
        "But one nice idea is as leaning curve is going to make train and test set it self, I use all my data and pass it to the learning_curve function"
      ]
    },
    {
      "cell_type": "code",
      "execution_count": null,
      "metadata": {
        "colab": {
          "base_uri": "https://localhost:8080/"
        },
        "id": "Wgh-K8xvvhl-",
        "outputId": "50846604-d069-46e4-de76-4255e4e99cec"
      },
      "outputs": [
        {
          "output_type": "stream",
          "name": "stdout",
          "text": [
            "X_data's shape vs X_train shape\n",
            "X_data's shape: (4500, 40)\n",
            "X_train's shape: (2700, 40)\n"
          ]
        }
      ],
      "source": [
        "print(\"X_data's shape vs X_train shape\")\n",
        "print(\"X_data's shape: \" + str(X_data.shape))\n",
        "print(\"X_train's shape: \" + str(X_train.shape))"
      ]
    },
    {
      "cell_type": "markdown",
      "metadata": {
        "id": "0JMak8CmvcOm"
      },
      "source": [
        "as given in the question, we use **25%, 50%, 75%, and 100%** of our data.\n",
        "Also I set the \"cv\" (which is the cross-validation) parameter of the leaning_curve model to **5**, so that this model does the evaluation for each training set, 10 times and each time it uses 1/5 of the data for validation set and testing the model and 4/5 for training it. Also our training_size array has lenght of 4. So the returning output for train_scores and val_scores should be an array of shape [4, 5]\n",
        "\n",
        "After all these explanations, let's start using the learning_curve!"
      ]
    },
    {
      "cell_type": "code",
      "execution_count": null,
      "metadata": {
        "id": "TuINIb7EeIMZ"
      },
      "outputs": [],
      "source": [
        "from sklearn.model_selection import learning_curve\n",
        "\n",
        "model = RandomForestClassifier(n_estimators=100, random_state=42)\n",
        "\n",
        "train_sizes, train_scores, val_scores = learning_curve(model, X_data, Y_data, cv=5  , scoring='accuracy', train_sizes=[0.25, 0.5, 0.75, 1])"
      ]
    },
    {
      "cell_type": "markdown",
      "metadata": {
        "id": "8_R8fEe8xK88"
      },
      "source": [
        "as the cv parameter is set to 5, train_sizes, train_scores, val_scores, each have 5 parts so we have to do some calculations and have one final results"
      ]
    },
    {
      "cell_type": "code",
      "execution_count": null,
      "metadata": {
        "colab": {
          "base_uri": "https://localhost:8080/"
        },
        "id": "O7nRW8ktqOZf",
        "outputId": "085b696c-e051-4956-af70-f325a2338061"
      },
      "outputs": [
        {
          "output_type": "stream",
          "name": "stdout",
          "text": [
            "primary train_sizes returned: (4,)\n",
            "primary train_scores returned: (4, 5)\n",
            "primary val_scores returned: (4, 5)\n"
          ]
        }
      ],
      "source": [
        "print(\"primary train_sizes returned: \" + str(train_sizes.shape))\n",
        "print(\"primary train_scores returned: \" + str(train_scores.shape))\n",
        "print(\"primary val_scores returned: \" + str(val_scores.shape))"
      ]
    },
    {
      "cell_type": "code",
      "execution_count": null,
      "metadata": {
        "colab": {
          "base_uri": "https://localhost:8080/",
          "height": 472
        },
        "id": "SdQ9Ud7ipwBM",
        "outputId": "a8b1ea39-2fe3-47fa-9eb6-21626f2fd448"
      },
      "outputs": [
        {
          "output_type": "display_data",
          "data": {
            "text/plain": [
              "<Figure size 640x480 with 1 Axes>"
            ],
            "image/png": "[encoded data removed]"
          },
          "metadata": {}
        }
      ],
      "source": [
        "plt.plot(train_sizes, train_scores, 'o-', color=\"b\", label=\"Training score\")\n",
        "plt.plot(train_sizes, val_scores, 'o-', color=\"r\", label=\"Cross-validation score\")\n",
        "plt.xlabel(\"Training examples\")\n",
        "plt.ylabel(\"Train Score\")\n",
        "plt.legend(loc=\"best\")\n",
        "plt.title(\"Learning Curve\")\n",
        "plt.show()"
      ]
    },
    {
      "cell_type": "markdown",
      "metadata": {
        "id": "OPH6_sR1rCw3"
      },
      "source": [
        "you can see how ugly and unorganized the plots are. So I calculate the mean of the each row of the arrays (axis=1) then for better visulasation, I calculate the standard deviation of them to see how they datas differ from the mean."
      ]
    },
    {
      "cell_type": "code",
      "execution_count": null,
      "metadata": {
        "id": "W_bKdbBJpbKB"
      },
      "outputs": [],
      "source": [
        "train_mean = np.mean(train_scores, axis=1)\n",
        "train_std = np.std(train_scores, axis=1)\n",
        "val_mean = np.mean(val_scores, axis=1)\n",
        "val_std = np.std(val_scores, axis=1)"
      ]
    },
    {
      "cell_type": "markdown",
      "metadata": {
        "id": "tMYDhkThuxQc"
      },
      "source": [
        "finally let's plot what we have done!\n",
        "we plot the means and fill it's surrounding using **(mean -+ std)**! 🙂"
      ]
    },
    {
      "cell_type": "code",
      "execution_count": null,
      "metadata": {
        "colab": {
          "base_uri": "https://localhost:8080/",
          "height": 351
        },
        "id": "t5yz6XmXuwZR",
        "outputId": "66ee919c-e3ce-4d5d-9303-5858dc67e442"
      },
      "outputs": [
        {
          "output_type": "display_data",
          "data": {
            "text/plain": [
              "<Figure size 2000x500 with 1 Axes>"
            ],
            "image/png": "[encoded data removed]"
          },
          "metadata": {}
        }
      ],
      "source": [
        "plt.figure(figsize=(20, 5))\n",
        "plt.fill_between(train_sizes, train_mean - train_std, train_mean + train_std, alpha=0.2, color=\"b\")\n",
        "plt.fill_between(train_sizes, val_mean - val_std, val_mean + val_std, alpha=0.2, color=\"r\")\n",
        "plt.plot(train_sizes, train_mean, 'o-', color=\"b\", label=\"Training score\")\n",
        "plt.plot(train_sizes, val_mean, 'o-', color=\"r\", label=\"Validation score\")\n",
        "plt.xlabel(\"Training examples\")\n",
        "plt.ylabel(\"Score\")\n",
        "plt.legend(loc=\"best\")\n",
        "plt.title(\"Learning Curve\")\n",
        "plt.show()"
      ]
    },
    {
      "cell_type": "markdown",
      "metadata": {
        "id": "yDuXv9zC6HQ5"
      },
      "source": [
        "**great!** you can see as we are using a random forest (which is based on decistion tree) the model performs really well on the training sets (because we don't have a limited lenght and it tries to fully grow tree till it seperates each data and make correct group for them compeletly.\n"
      ]
    },
    {
      "cell_type": "markdown",
      "metadata": {
        "id": "8UqUdKvrx9x9"
      },
      "source": [
        "**but** one big problem of it is that our accuracy of the validation set will not be high enough as the tree has **overfited** to the training data. And we know that one simple way of solving an overfitted model is to feed more data to the model. So by increasing the data size, the model performs **slightly** better"
      ]
    },
    {
      "cell_type": "markdown",
      "metadata": {
        "id": "US_EJ9I06JpM"
      },
      "source": [
        "now let's check it using the gradient boost.\n",
        "\n",
        "first, some basic implementations of GradientBosstingClassifier"
      ]
    },
    {
      "cell_type": "code",
      "execution_count": null,
      "metadata": {
        "colab": {
          "base_uri": "https://localhost:8080/"
        },
        "id": "zBn4GPsQ_Edo",
        "outputId": "7557fb5a-c363-4490-cc46-48bc51bf0662"
      },
      "outputs": [
        {
          "output_type": "stream",
          "name": "stdout",
          "text": [
            "Accuracy: 0.6933333333333334\n"
          ]
        }
      ],
      "source": [
        "from sklearn.ensemble import GradientBoostingClassifier\n",
        "X_train, X_test, y_train, y_test = train_test_split(X_data, Y_data, test_size=0.20, random_state=42)\n",
        "gb = GradientBoostingClassifier(n_estimators=100, learning_rate=0.1, max_depth=3, random_state=42)\n",
        "gb.fit(X_train, y_train)\n",
        "predictions = gb.predict(X_test)\n",
        "accuracy = accuracy_score(y_test, predictions)\n",
        "print(\"Accuracy:\", accuracy)\n"
      ]
    },
    {
      "cell_type": "markdown",
      "metadata": {
        "id": "sgvmVbKWyXuw"
      },
      "source": [
        "let's checkout what can be one of the best value for leaning_rate hyperparameters of this model!"
      ]
    },
    {
      "cell_type": "code",
      "execution_count": null,
      "metadata": {
        "id": "NK-yQzp6yiGk"
      },
      "outputs": [],
      "source": [
        "def find_best_learning_rate(X_train, y_train, X_val, y_val, learning_rate_values):\n",
        "    best_learning_rate = None\n",
        "    best_val_accuracy = 0\n",
        "    best_model = None\n",
        "    history = {'train': [], 'val': []}\n",
        "\n",
        "    for lr in learning_rate_values:\n",
        "        gb = GradientBoostingClassifier(learning_rate=lr, random_state=42)\n",
        "        gb.fit(X_train, y_train)\n",
        "        y_train_pred = gb.predict(X_train)\n",
        "        training_accuracy = accuracy_score(y_train, y_train_pred)\n",
        "        y_val_pred = gb.predict(X_val)\n",
        "        validation_accuracy = accuracy_score(y_val, y_val_pred)\n",
        "        history['train'].append(training_accuracy)\n",
        "        history['val'].append(validation_accuracy)\n",
        "        if validation_accuracy > best_val_accuracy:\n",
        "            best_val_accuracy = validation_accuracy\n",
        "            best_learning_rate = lr\n",
        "            best_model = gb\n",
        "\n",
        "    return best_learning_rate, best_model, best_val_accuracy, history\n"
      ]
    },
    {
      "cell_type": "code",
      "execution_count": null,
      "metadata": {
        "colab": {
          "base_uri": "https://localhost:8080/"
        },
        "id": "NHbUV8nY1Kh0",
        "outputId": "b94ab976-0bb9-4a62-d73c-8d168495661c"
      },
      "outputs": [
        {
          "output_type": "stream",
          "name": "stdout",
          "text": [
            "X_train size:    (2700, 40)\n",
            "X_val size:      (900, 40)\n",
            "X_test size:     (900, 40)\n"
          ]
        }
      ],
      "source": [
        "X_train, X_rest, Y_train, Y_rest = train_test_split(X_data, Y_data, test_size=0.4, random_state=42)\n",
        "X_val, X_test, Y_val, Y_test = train_test_split(X_rest, Y_rest, test_size=0.5, random_state=42)\n",
        "\n",
        "print(\"X_train size:\" + '    ' + str(X_train.shape) )\n",
        "print(\"X_val size:\" + '      ' + str(X_val.shape) )\n",
        "print(\"X_test size:\" + '     ' + str(X_test.shape) )"
      ]
    },
    {
      "cell_type": "code",
      "execution_count": null,
      "metadata": {
        "colab": {
          "base_uri": "https://localhost:8080/",
          "height": 599
        },
        "id": "n_TqS6ap0yq-",
        "outputId": "8fd88d62-5861-4f1a-c58f-770f1765d99b"
      },
      "outputs": [
        {
          "output_type": "stream",
          "name": "stdout",
          "text": [
            "Best Learning Rate: 0.5\n",
            "Validation Accuracy with Best Model: 0.7167\n"
          ]
        },
        {
          "output_type": "display_data",
          "data": {
            "text/plain": [
              "<Figure size 1000x600 with 1 Axes>"
            ],
            "image/png": "[encoded data removed]"
          },
          "metadata": {}
        }
      ],
      "source": [
        "learning_rate_values = [0.001, 0.005, 0.01, 0.05, 0.1, 0.5, 1]\n",
        "best_learning_rate, best_model, best_accuracy, history = find_best_learning_rate(X_train, Y_train, X_val, Y_val, learning_rate_values)\n",
        "print(f\"Best Learning Rate: {best_learning_rate}\")\n",
        "print(f\"Validation Accuracy with Best Model: {best_accuracy:.4f}\")\n",
        "\n",
        "plt.figure(figsize=(10, 6))\n",
        "plt.plot(learning_rate_values, history['train'], marker='o', label='Training Accuracy')\n",
        "plt.plot(learning_rate_values, history['val'], marker='o', label='Validation Accuracy')\n",
        "plt.xscale('log')\n",
        "plt.xlabel('Learning Rate')\n",
        "plt.ylabel('Accuracy')\n",
        "plt.title('Training and Validation Accuracies for Different Learning Rates')\n",
        "plt.xticks(learning_rate_values, [str(lr) for lr in learning_rate_values])\n",
        "plt.legend()\n",
        "plt.grid(True)\n",
        "plt.show()\n"
      ]
    },
    {
      "cell_type": "markdown",
      "metadata": {
        "id": "_9Fn_VaW2nzD"
      },
      "source": [
        "pretty interesting results!\n",
        "\n",
        "what about the max_depth?"
      ]
    },
    {
      "cell_type": "code",
      "execution_count": null,
      "metadata": {
        "id": "YZne2PBH2Tnm"
      },
      "outputs": [],
      "source": [
        "def find_best_max_depth(X_train, y_train, X_val, y_val, max_depth_values):\n",
        "    best_learning_rate = None\n",
        "    best_val_accuracy = 0\n",
        "    best_model = None\n",
        "    history = {'train': [], 'val': []}\n",
        "\n",
        "    for md in learning_rate_values:\n",
        "        gb = GradientBoostingClassifier(max_depth=max_depth_values, random_state=42)\n",
        "        gb.fit(X_train, y_train)\n",
        "        y_train_pred = gb.predict(X_train)\n",
        "        training_accuracy = accuracy_score(y_train, y_train_pred)\n",
        "        y_val_pred = gb.predict(X_val)\n",
        "        validation_accuracy = accuracy_score(y_val, y_val_pred)\n",
        "        history['train'].append(training_accuracy)\n",
        "        history['val'].append(validation_accuracy)\n",
        "        if validation_accuracy > best_val_accuracy:\n",
        "            best_val_accuracy = validation_accuracy\n",
        "            best_learning_rate = md\n",
        "            best_model = gb\n",
        "\n",
        "    return best_learning_rate, best_model, best_val_accuracy, history\n"
      ]
    },
    {
      "cell_type": "code",
      "execution_count": null,
      "metadata": {
        "colab": {
          "base_uri": "https://localhost:8080/",
          "height": 599
        },
        "id": "FTCc9Tcg3IU8",
        "outputId": "687b74ab-a435-4376-ec8a-602dd2d1cc10"
      },
      "outputs": [
        {
          "output_type": "stream",
          "name": "stdout",
          "text": [
            "Best max depth: 1\n",
            "Validation Accuracy with Best Model: 0.6867\n"
          ]
        },
        {
          "output_type": "display_data",
          "data": {
            "text/plain": [
              "<Figure size 1000x600 with 1 Axes>"
            ],
            "image/png": "[encoded data removed]"
          },
          "metadata": {}
        }
      ],
      "source": [
        "max_depth_values = [1, 2, 3, 4, 5, 6]\n",
        "best_learning_rate, best_model, best_accuracy, history = find_best_learning_rate(X_train, Y_train, X_val, Y_val, max_depth_values)\n",
        "print(f\"Best max depth: {best_learning_rate}\")\n",
        "print(f\"Validation Accuracy with Best Model: {best_accuracy:.4f}\")\n",
        "\n",
        "# Plotting training and validation accuracies\n",
        "plt.figure(figsize=(10, 6))\n",
        "plt.plot(max_depth_values, history['train'], marker='o', label='Training Accuracy')\n",
        "plt.plot(max_depth_values, history['val'], marker='o', label='Validation Accuracy')\n",
        "plt.xlabel('Learning Rate')\n",
        "plt.ylabel('Accuracy')\n",
        "plt.title('Training and Validation Accuracies for Different max depth')\n",
        "plt.xticks(max_depth_values, [str(lr) for lr in max_depth_values])\n",
        "plt.legend()\n",
        "plt.grid(True)\n",
        "plt.show()\n"
      ]
    },
    {
      "cell_type": "markdown",
      "metadata": {
        "id": "30OS-sqE31DC"
      },
      "source": [
        "[link text](https://)So after this fun observations, having a gradient boosting model with learning_rate of **0.5** and max depth of **1** can have a proper result! **maybe...**"
      ]
    },
    {
      "cell_type": "code",
      "execution_count": null,
      "metadata": {
        "id": "J_hyuzHk5G-A",
        "colab": {
          "base_uri": "https://localhost:8080/"
        },
        "outputId": "b1765857-9f2e-4063-c936-993f960cbbd1"
      },
      "outputs": [
        {
          "output_type": "stream",
          "name": "stdout",
          "text": [
            "X_train size:   (2700, 40)\n",
            "X_val size:     (900, 40)\n",
            "X_test size:    (900, 40)\n"
          ]
        }
      ],
      "source": [
        "X_train, X_rest, Y_train, Y_rest = train_test_split(X_data, Y_data, test_size=0.4, random_state=42)\n",
        "X_val, X_test, Y_val, Y_test = train_test_split(X_rest, Y_rest, test_size=0.5, random_state=42)\n",
        "\n",
        "print(\"X_train size:\" + '   ' + str(X_train.shape) )\n",
        "print(\"X_val size:\" + '     ' + str(X_val.shape) )\n",
        "print(\"X_test size:\" + '    ' + str(X_test.shape) )"
      ]
    },
    {
      "cell_type": "code",
      "execution_count": null,
      "metadata": {
        "colab": {
          "base_uri": "https://localhost:8080/"
        },
        "id": "P_rusvqq4efm",
        "outputId": "48092442-a03d-490c-cd7f-f080ca4a4332"
      },
      "outputs": [
        {
          "output_type": "stream",
          "name": "stdout",
          "text": [
            "test accuracy is: 0.6877777777777778\n"
          ]
        }
      ],
      "source": [
        "gb = GradientBoostingClassifier(max_depth=1, learning_rate=0.5, random_state=42)\n",
        "gb.fit(X_train, Y_train)\n",
        "y_test_pred = gb.predict(X_test)\n",
        "test_accuracy = accuracy_score(Y_test, y_test_pred)\n",
        "print(\"test accuracy is: \" + str(test_accuracy))"
      ]
    },
    {
      "cell_type": "markdown",
      "metadata": {
        "id": "8l1GOElZ5Wqp"
      },
      "source": [
        "the reason why the model did not worked well on these parameters was that we once checked the best value of learning rate but with the **default** max_depth and the other time that we checked what could be the best max_depth, while the learning rate was **another default** value that our model had relied on it.\n",
        "\n",
        "it was really interesting!\n",
        "\n",
        "So let's find the best of these two parameters together using the GridSearchCV!\n",
        "\n",
        "this may take 10 minutes!"
      ]
    },
    {
      "cell_type": "code",
      "execution_count": null,
      "metadata": {
        "id": "jFrxJQvm_Ype",
        "colab": {
          "base_uri": "https://localhost:8080/"
        },
        "outputId": "ac39b0b9-5aae-4bf0-bb9f-4598dee5eae8"
      },
      "outputs": [
        {
          "output_type": "stream",
          "name": "stdout",
          "text": [
            "Best Max Depth: 4\n",
            "Best Learning Rate: 0.05\n"
          ]
        }
      ],
      "source": [
        "from sklearn.model_selection import GridSearchCV\n",
        "\n",
        "\n",
        "param_grid = {\n",
        "    'max_depth': [1, 2, 3, 4],\n",
        "    'learning_rate': [0.01, 0.05, 0.1, 0.5]\n",
        "}\n",
        "gb_model = GradientBoostingClassifier(random_state=42)\n",
        "grid_search = GridSearchCV(estimator=gb_model, param_grid=param_grid, scoring='accuracy', cv=5)\n",
        "grid_search.fit(X_train, Y_train)\n",
        "best_max_depth = grid_search.best_params_['max_depth']\n",
        "best_learning_rate = grid_search.best_params_['learning_rate']\n",
        "best_gb_model = grid_search.best_estimator_\n",
        "print(f\"Best Max Depth: {best_max_depth}\")\n",
        "print(f\"Best Learning Rate: {best_learning_rate}\")"
      ]
    },
    {
      "cell_type": "markdown",
      "source": [
        "So we have found the best combination of max_depth and learning_rate.\n",
        "\n",
        "Let's use a confusion matrix for better visualization and understaning."
      ],
      "metadata": {
        "id": "crdPFaTTgsRS"
      }
    },
    {
      "cell_type": "code",
      "execution_count": null,
      "metadata": {
        "id": "7ZfHNgaGA1oH",
        "colab": {
          "base_uri": "https://localhost:8080/",
          "height": 582
        },
        "outputId": "895e6870-1756-46db-b69f-ed8f2d5552be"
      },
      "outputs": [
        {
          "output_type": "display_data",
          "data": {
            "text/plain": [
              "<Figure size 800x600 with 2 Axes>"
            ],
            "image/png": "[encoded data removed]"
          },
          "metadata": {}
        }
      ],
      "source": [
        "results = grid_search.cv_results_\n",
        "max_depth_values = param_grid['max_depth']\n",
        "learning_rate_values = param_grid['learning_rate']\n",
        "scores = np.array(results['mean_test_score']).reshape(len(max_depth_values), len(learning_rate_values))\n",
        "\n",
        "plt.figure(figsize=(8, 6))\n",
        "plt.imshow(scores, interpolation='nearest', cmap=plt.cm.hot)\n",
        "plt.xlabel('Learning Rate')\n",
        "plt.ylabel('Max Depth')\n",
        "plt.colorbar()\n",
        "plt.xticks(np.arange(len(learning_rate_values)), learning_rate_values, rotation=45)\n",
        "plt.yticks(np.arange(len(max_depth_values)), max_depth_values)\n",
        "plt.title('Grid Search Mean Test Scores')\n",
        "plt.show()"
      ]
    },
    {
      "cell_type": "markdown",
      "metadata": {
        "id": "bKZh5F786AaK"
      },
      "source": [
        "now that we have found proper hyperparameters, let's checkout training the model using the **learning_curve**. I give all my data for better understanding of how increasing of data can help us"
      ]
    },
    {
      "cell_type": "code",
      "execution_count": null,
      "metadata": {
        "id": "WJD8-zPxA07O",
        "colab": {
          "base_uri": "https://localhost:8080/",
          "height": 564
        },
        "outputId": "9526071e-8f13-4951-a5b9-048d926555ec"
      },
      "outputs": [
        {
          "output_type": "display_data",
          "data": {
            "text/plain": [
              "<Figure size 1000x600 with 1 Axes>"
            ],
            "image/png": "[encoded data removed]"
          },
          "metadata": {}
        }
      ],
      "source": [
        "from sklearn.model_selection import learning_curve\n",
        "\n",
        "train_sizes, train_scores, test_scores = learning_curve(\n",
        "    best_gb_model, X_data, Y_data, cv=5, n_jobs=-1,\n",
        "    train_sizes=[0.25, 0.5, 0.75, 1], scoring='accuracy')\n",
        "\n",
        "train_scores_mean = np.mean(train_scores, axis=1)\n",
        "train_scores_std = np.std(train_scores, axis=1)\n",
        "test_scores_mean = np.mean(test_scores, axis=1)\n",
        "test_scores_std = np.std(test_scores, axis=1)\n",
        "\n",
        "plt.figure(figsize=(10, 6))\n",
        "plt.fill_between(train_sizes, train_scores_mean - train_scores_std,\n",
        "                 train_scores_mean + train_scores_std, alpha=0.1,\n",
        "                 color=\"r\")\n",
        "plt.fill_between(train_sizes, test_scores_mean - test_scores_std,\n",
        "                 test_scores_mean + test_scores_std, alpha=0.1, color=\"g\")\n",
        "plt.plot(train_sizes, train_scores_mean, 'o-', color=\"r\",\n",
        "         label=\"Training score\")\n",
        "plt.plot(train_sizes, test_scores_mean, 'o-', color=\"g\",\n",
        "         label=\"Cross-validation score\")\n",
        "plt.xlabel(\"Training examples\")\n",
        "plt.ylabel(\"Score\")\n",
        "plt.legend(loc=\"best\")\n",
        "plt.title(\"Learning Curve for Gradient Boosting Model\")\n",
        "plt.show()\n"
      ]
    },
    {
      "cell_type": "markdown",
      "source": [
        "**Great!** We see that at first that our data wasn't that much, the train accuracy was high and the more data was fed into the model, the less our training accuracy is! It's because in **in gradient boosting the trees have limited max_depth (here it was 4 as we saw it had the best resaults) and by increasing the data, it can not have 100% accuracy on the trains set**. But you see how better the generalization is here and we have much better validation accuracy and increasing the data, leads to lower the overfiting problem."
      ],
      "metadata": {
        "id": "MHi3Aao3BOZB"
      }
    },
    {
      "cell_type": "markdown",
      "metadata": {
        "id": "yPSZ34Bl6R_j"
      },
      "source": [
        "#Q2"
      ]
    },
    {
      "cell_type": "markdown",
      "source": [
        "###a)"
      ],
      "metadata": {
        "id": "phTcPWby7wi5"
      }
    },
    {
      "cell_type": "code",
      "execution_count": null,
      "metadata": {
        "id": "3lYik0NAOoFQ",
        "colab": {
          "base_uri": "https://localhost:8080/"
        },
        "outputId": "a44e73b8-9b07-415e-8615-3b3753d2024c"
      },
      "outputs": [
        {
          "output_type": "stream",
          "name": "stdout",
          "text": [
            "x.npy  y.npy\n"
          ]
        }
      ],
      "source": [
        "ls"
      ]
    },
    {
      "cell_type": "code",
      "source": [
        "cd .."
      ],
      "metadata": {
        "colab": {
          "base_uri": "https://localhost:8080/"
        },
        "id": "-dTVn07PttKc",
        "outputId": "13e75e02-ff0d-4387-d8cd-7fd2165ed72a"
      },
      "execution_count": null,
      "outputs": [
        {
          "output_type": "stream",
          "name": "stdout",
          "text": [
            "/content/drive/MyDrive/AI/ML-Fall2023/HW1\n"
          ]
        }
      ]
    },
    {
      "cell_type": "code",
      "source": [
        "ls"
      ],
      "metadata": {
        "colab": {
          "base_uri": "https://localhost:8080/"
        },
        "id": "_fcyyUbNtwIF",
        "outputId": "a63b0bea-11d7-455b-f44d-acbc4de78e18"
      },
      "execution_count": null,
      "outputs": [
        {
          "output_type": "stream",
          "name": "stdout",
          "text": [
            "\u001b[0m\u001b[01;34mQ1\u001b[0m/  \u001b[01;34mQ2\u001b[0m/\n"
          ]
        }
      ]
    },
    {
      "cell_type": "code",
      "source": [
        "cd Q2"
      ],
      "metadata": {
        "colab": {
          "base_uri": "https://localhost:8080/"
        },
        "id": "mFiJs2_ktxSD",
        "outputId": "7364bb82-0729-48c4-c3c4-ada62046bae9"
      },
      "execution_count": null,
      "outputs": [
        {
          "output_type": "stream",
          "name": "stdout",
          "text": [
            "/content/drive/MyDrive/AI/ML-Fall2023/HW1/Q2\n"
          ]
        }
      ]
    },
    {
      "cell_type": "code",
      "source": [
        "ls"
      ],
      "metadata": {
        "colab": {
          "base_uri": "https://localhost:8080/"
        },
        "id": "AN_YYPsRt0Ui",
        "outputId": "51534d57-47db-4b1a-ad42-47a1dff8709b"
      },
      "execution_count": null,
      "outputs": [
        {
          "output_type": "stream",
          "name": "stdout",
          "text": [
            "Disease_symptom_and_patient_profile_dataset.csv\n"
          ]
        }
      ]
    },
    {
      "cell_type": "markdown",
      "source": [
        "after locating the file, this time, we try to work with pandas as we have lots of tabular data.\n",
        "**It's the fun part! Let's see how we make these strange data to appropriate data needed to be fed to the model**"
      ],
      "metadata": {
        "id": "lNJky9t6wjMa"
      }
    },
    {
      "cell_type": "code",
      "source": [
        "import pandas as pd\n",
        "from sklearn.model_selection import train_test_split\n",
        "from sklearn.preprocessing import LabelEncoder, OneHotEncoder, StandardScaler"
      ],
      "metadata": {
        "id": "K_NQkshit2-n"
      },
      "execution_count": null,
      "outputs": []
    },
    {
      "cell_type": "markdown",
      "source": [
        "loading the CSV file"
      ],
      "metadata": {
        "id": "kLWjPsVaAVz4"
      }
    },
    {
      "cell_type": "code",
      "source": [
        "df = pd.read_csv('Disease_symptom_and_patient_profile_dataset.csv')"
      ],
      "metadata": {
        "id": "wbHRfrbnAazr"
      },
      "execution_count": null,
      "outputs": []
    },
    {
      "cell_type": "markdown",
      "source": [
        "first, let's display what we have"
      ],
      "metadata": {
        "id": "yrKn9DLEAhLg"
      }
    },
    {
      "cell_type": "code",
      "source": [
        "df"
      ],
      "metadata": {
        "colab": {
          "base_uri": "https://localhost:8080/",
          "height": 423
        },
        "id": "1EB3pUgFAec4",
        "outputId": "356da1b2-8aa3-47d3-d903-d0bd860b931c"
      },
      "execution_count": null,
      "outputs": [
        {
          "output_type": "execute_result",
          "data": {
            "text/plain": [
              "         Disease Fever Cough Fatigue Difficulty Breathing  Age  Gender  \\\n",
              "0      Influenza   Yes    No     Yes                  Yes   19  Female   \n",
              "1    Common Cold    No   Yes     Yes                   No   25  Female   \n",
              "2         Eczema    No   Yes     Yes                   No   25  Female   \n",
              "3         Asthma   Yes   Yes      No                  Yes   25    Male   \n",
              "4         Asthma   Yes   Yes      No                  Yes   25    Male   \n",
              "..           ...   ...   ...     ...                  ...  ...     ...   \n",
              "344       Stroke   Yes    No     Yes                   No   80  Female   \n",
              "345       Stroke   Yes    No     Yes                   No   85    Male   \n",
              "346       Stroke   Yes    No     Yes                   No   85    Male   \n",
              "347       Stroke   Yes    No     Yes                   No   90  Female   \n",
              "348       Stroke   Yes    No     Yes                   No   90  Female   \n",
              "\n",
              "    Blood Pressure Cholesterol Level Outcome Variable  \n",
              "0              Low            Normal         Positive  \n",
              "1           Normal            Normal         Negative  \n",
              "2           Normal            Normal         Negative  \n",
              "3           Normal            Normal         Positive  \n",
              "4           Normal            Normal         Positive  \n",
              "..             ...               ...              ...  \n",
              "344           High              High         Positive  \n",
              "345           High              High         Positive  \n",
              "346           High              High         Positive  \n",
              "347           High              High         Positive  \n",
              "348           High              High         Positive  \n",
              "\n",
              "[349 rows x 10 columns]"
            ],
            "text/html": [
              "\n",
              "  <div id=\"df-58db0672-fdb9-40d7-8320-234375cd0bef\" class=\"colab-df-container\">\n",
              "    <div>\n",
              "<style scoped>\n",
              "    .dataframe tbody tr th:only-of-type {\n",
              "        vertical-align: middle;\n",
              "    }\n",
              "\n",
              "    .dataframe tbody tr th {\n",
              "        vertical-align: top;\n",
              "    }\n",
              "\n",
              "    .dataframe thead th {\n",
              "        text-align: right;\n",
              "    }\n",
              "</style>\n",
              "<table border=\"1\" class=\"dataframe\">\n",
              "  <thead>\n",
              "    <tr style=\"text-align: right;\">\n",
              "      <th></th>\n",
              "      <th>Disease</th>\n",
              "      <th>Fever</th>\n",
              "      <th>Cough</th>\n",
              "      <th>Fatigue</th>\n",
              "      <th>Difficulty Breathing</th>\n",
              "      <th>Age</th>\n",
              "      <th>Gender</th>\n",
              "      <th>Blood Pressure</th>\n",
              "      <th>Cholesterol Level</th>\n",
              "      <th>Outcome Variable</th>\n",
              "    </tr>\n",
              "  </thead>\n",
              "  <tbody>\n",
              "    <tr>\n",
              "      <th>0</th>\n",
              "      <td>Influenza</td>\n",
              "      <td>Yes</td>\n",
              "      <td>No</td>\n",
              "      <td>Yes</td>\n",
              "      <td>Yes</td>\n",
              "      <td>19</td>\n",
              "      <td>Female</td>\n",
              "      <td>Low</td>\n",
              "      <td>Normal</td>\n",
              "      <td>Positive</td>\n",
              "    </tr>\n",
              "    <tr>\n",
              "      <th>1</th>\n",
              "      <td>Common Cold</td>\n",
              "      <td>No</td>\n",
              "      <td>Yes</td>\n",
              "      <td>Yes</td>\n",
              "      <td>No</td>\n",
              "      <td>25</td>\n",
              "      <td>Female</td>\n",
              "      <td>Normal</td>\n",
              "      <td>Normal</td>\n",
              "      <td>Negative</td>\n",
              "    </tr>\n",
              "    <tr>\n",
              "      <th>2</th>\n",
              "      <td>Eczema</td>\n",
              "      <td>No</td>\n",
              "      <td>Yes</td>\n",
              "      <td>Yes</td>\n",
              "      <td>No</td>\n",
              "      <td>25</td>\n",
              "      <td>Female</td>\n",
              "      <td>Normal</td>\n",
              "      <td>Normal</td>\n",
              "      <td>Negative</td>\n",
              "    </tr>\n",
              "    <tr>\n",
              "      <th>3</th>\n",
              "      <td>Asthma</td>\n",
              "      <td>Yes</td>\n",
              "      <td>Yes</td>\n",
              "      <td>No</td>\n",
              "      <td>Yes</td>\n",
              "      <td>25</td>\n",
              "      <td>Male</td>\n",
              "      <td>Normal</td>\n",
              "      <td>Normal</td>\n",
              "      <td>Positive</td>\n",
              "    </tr>\n",
              "    <tr>\n",
              "      <th>4</th>\n",
              "      <td>Asthma</td>\n",
              "      <td>Yes</td>\n",
              "      <td>Yes</td>\n",
              "      <td>No</td>\n",
              "      <td>Yes</td>\n",
              "      <td>25</td>\n",
              "      <td>Male</td>\n",
              "      <td>Normal</td>\n",
              "      <td>Normal</td>\n",
              "      <td>Positive</td>\n",
              "    </tr>\n",
              "    <tr>\n",
              "      <th>...</th>\n",
              "      <td>...</td>\n",
              "      <td>...</td>\n",
              "      <td>...</td>\n",
              "      <td>...</td>\n",
              "      <td>...</td>\n",
              "      <td>...</td>\n",
              "      <td>...</td>\n",
              "      <td>...</td>\n",
              "      <td>...</td>\n",
              "      <td>...</td>\n",
              "    </tr>\n",
              "    <tr>\n",
              "      <th>344</th>\n",
              "      <td>Stroke</td>\n",
              "      <td>Yes</td>\n",
              "      <td>No</td>\n",
              "      <td>Yes</td>\n",
              "      <td>No</td>\n",
              "      <td>80</td>\n",
              "      <td>Female</td>\n",
              "      <td>High</td>\n",
              "      <td>High</td>\n",
              "      <td>Positive</td>\n",
              "    </tr>\n",
              "    <tr>\n",
              "      <th>345</th>\n",
              "      <td>Stroke</td>\n",
              "      <td>Yes</td>\n",
              "      <td>No</td>\n",
              "      <td>Yes</td>\n",
              "      <td>No</td>\n",
              "      <td>85</td>\n",
              "      <td>Male</td>\n",
              "      <td>High</td>\n",
              "      <td>High</td>\n",
              "      <td>Positive</td>\n",
              "    </tr>\n",
              "    <tr>\n",
              "      <th>346</th>\n",
              "      <td>Stroke</td>\n",
              "      <td>Yes</td>\n",
              "      <td>No</td>\n",
              "      <td>Yes</td>\n",
              "      <td>No</td>\n",
              "      <td>85</td>\n",
              "      <td>Male</td>\n",
              "      <td>High</td>\n",
              "      <td>High</td>\n",
              "      <td>Positive</td>\n",
              "    </tr>\n",
              "    <tr>\n",
              "      <th>347</th>\n",
              "      <td>Stroke</td>\n",
              "      <td>Yes</td>\n",
              "      <td>No</td>\n",
              "      <td>Yes</td>\n",
              "      <td>No</td>\n",
              "      <td>90</td>\n",
              "      <td>Female</td>\n",
              "      <td>High</td>\n",
              "      <td>High</td>\n",
              "      <td>Positive</td>\n",
              "    </tr>\n",
              "    <tr>\n",
              "      <th>348</th>\n",
              "      <td>Stroke</td>\n",
              "      <td>Yes</td>\n",
              "      <td>No</td>\n",
              "      <td>Yes</td>\n",
              "      <td>No</td>\n",
              "      <td>90</td>\n",
              "      <td>Female</td>\n",
              "      <td>High</td>\n",
              "      <td>High</td>\n",
              "      <td>Positive</td>\n",
              "    </tr>\n",
              "  </tbody>\n",
              "</table>\n",
              "<p>349 rows × 10 columns</p>\n",
              "</div>\n",
              "    <div class=\"colab-df-buttons\">\n",
              "\n",
              "  <div class=\"colab-df-container\">\n",
              "    <button class=\"colab-df-convert\" onclick=\"convertToInteractive('df-58db0672-fdb9-40d7-8320-234375cd0bef')\"\n",
              "            title=\"Convert this dataframe to an interactive table.\"\n",
              "            style=\"display:none;\">\n",
              "\n",
              "  <svg xmlns=\"http://www.w3.org/2000/svg\" height=\"24px\" viewBox=\"0 -960 960 960\">\n",
              "    <path d=\"M120-120v-720h720v720H120Zm60-500h600v-160H180v160Zm220 220h160v-160H400v160Zm0 220h160v-160H400v160ZM180-400h160v-160H180v160Zm440 0h160v-160H620v160ZM180-180h160v-160H180v160Zm440 0h160v-160H620v160Z\"/>\n",
              "  </svg>\n",
              "    </button>\n",
              "\n",
              "  <style>\n",
              "    .colab-df-container {\n",
              "      display:flex;\n",
              "      gap: 12px;\n",
              "    }\n",
              "\n",
              "    .colab-df-convert {\n",
              "      background-color: #E8F0FE;\n",
              "      border: none;\n",
              "      border-radius: 50%;\n",
              "      cursor: pointer;\n",
              "      display: none;\n",
              "      fill: #1967D2;\n",
              "      height: 32px;\n",
              "      padding: 0 0 0 0;\n",
              "      width: 32px;\n",
              "    }\n",
              "\n",
              "    .colab-df-convert:hover {\n",
              "      background-color: #E2EBFA;\n",
              "      box-shadow: 0px 1px 2px rgba(60, 64, 67, 0.3), 0px 1px 3px 1px rgba(60, 64, 67, 0.15);\n",
              "      fill: #174EA6;\n",
              "    }\n",
              "\n",
              "    .colab-df-buttons div {\n",
              "      margin-bottom: 4px;\n",
              "    }\n",
              "\n",
              "    [theme=dark] .colab-df-convert {\n",
              "      background-color: #3B4455;\n",
              "      fill: #D2E3FC;\n",
              "    }\n",
              "\n",
              "    [theme=dark] .colab-df-convert:hover {\n",
              "      background-color: #434B5C;\n",
              "      box-shadow: 0px 1px 3px 1px rgba(0, 0, 0, 0.15);\n",
              "      filter: drop-shadow(0px 1px 2px rgba(0, 0, 0, 0.3));\n",
              "      fill: #FFFFFF;\n",
              "    }\n",
              "  </style>\n",
              "\n",
              "    <script>\n",
              "      const buttonEl =\n",
              "        document.querySelector('#df-58db0672-fdb9-40d7-8320-234375cd0bef button.colab-df-convert');\n",
              "      buttonEl.style.display =\n",
              "        google.colab.kernel.accessAllowed ? 'block' : 'none';\n",
              "\n",
              "      async function convertToInteractive(key) {\n",
              "        const element = document.querySelector('#df-58db0672-fdb9-40d7-8320-234375cd0bef');\n",
              "        const dataTable =\n",
              "          await google.colab.kernel.invokeFunction('convertToInteractive',\n",
              "                                                    [key], {});\n",
              "        if (!dataTable) return;\n",
              "\n",
              "        const docLinkHtml = 'Like what you see? Visit the ' +\n",
              "          '<a target=\"_blank\" href=https://colab.research.google.com/notebooks/data_table.ipynb>data table notebook</a>'\n",
              "          + ' to learn more about interactive tables.';\n",
              "        element.innerHTML = '';\n",
              "        dataTable['output_type'] = 'display_data';\n",
              "        await google.colab.output.renderOutput(dataTable, element);\n",
              "        const docLink = document.createElement('div');\n",
              "        docLink.innerHTML = docLinkHtml;\n",
              "        element.appendChild(docLink);\n",
              "      }\n",
              "    </script>\n",
              "  </div>\n",
              "\n",
              "\n",
              "<div id=\"df-d3d8a11c-74ea-4e04-9599-e46b3aa04cac\">\n",
              "  <button class=\"colab-df-quickchart\" onclick=\"quickchart('df-d3d8a11c-74ea-4e04-9599-e46b3aa04cac')\"\n",
              "            title=\"Suggest charts\"\n",
              "            style=\"display:none;\">\n",
              "\n",
              "<svg xmlns=\"http://www.w3.org/2000/svg\" height=\"24px\"viewBox=\"0 0 24 24\"\n",
              "     width=\"24px\">\n",
              "    <g>\n",
              "        <path d=\"M19 3H5c-1.1 0-2 .9-2 2v14c0 1.1.9 2 2 2h14c1.1 0 2-.9 2-2V5c0-1.1-.9-2-2-2zM9 17H7v-7h2v7zm4 0h-2V7h2v10zm4 0h-2v-4h2v4z\"/>\n",
              "    </g>\n",
              "</svg>\n",
              "  </button>\n",
              "\n",
              "<style>\n",
              "  .colab-df-quickchart {\n",
              "      --bg-color: #E8F0FE;\n",
              "      --fill-color: #1967D2;\n",
              "      --hover-bg-color: #E2EBFA;\n",
              "      --hover-fill-color: #174EA6;\n",
              "      --disabled-fill-color: #AAA;\n",
              "      --disabled-bg-color: #DDD;\n",
              "  }\n",
              "\n",
              "  [theme=dark] .colab-df-quickchart {\n",
              "      --bg-color: #3B4455;\n",
              "      --fill-color: #D2E3FC;\n",
              "      --hover-bg-color: #434B5C;\n",
              "      --hover-fill-color: #FFFFFF;\n",
              "      --disabled-bg-color: #3B4455;\n",
              "      --disabled-fill-color: #666;\n",
              "  }\n",
              "\n",
              "  .colab-df-quickchart {\n",
              "    background-color: var(--bg-color);\n",
              "    border: none;\n",
              "    border-radius: 50%;\n",
              "    cursor: pointer;\n",
              "    display: none;\n",
              "    fill: var(--fill-color);\n",
              "    height: 32px;\n",
              "    padding: 0;\n",
              "    width: 32px;\n",
              "  }\n",
              "\n",
              "  .colab-df-quickchart:hover {\n",
              "    background-color: var(--hover-bg-color);\n",
              "    box-shadow: 0 1px 2px rgba(60, 64, 67, 0.3), 0 1px 3px 1px rgba(60, 64, 67, 0.15);\n",
              "    fill: var(--button-hover-fill-color);\n",
              "  }\n",
              "\n",
              "  .colab-df-quickchart-complete:disabled,\n",
              "  .colab-df-quickchart-complete:disabled:hover {\n",
              "    background-color: var(--disabled-bg-color);\n",
              "    fill: var(--disabled-fill-color);\n",
              "    box-shadow: none;\n",
              "  }\n",
              "\n",
              "  .colab-df-spinner {\n",
              "    border: 2px solid var(--fill-color);\n",
              "    border-color: transparent;\n",
              "    border-bottom-color: var(--fill-color);\n",
              "    animation:\n",
              "      spin 1s steps(1) infinite;\n",
              "  }\n",
              "\n",
              "  @keyframes spin {\n",
              "    0% {\n",
              "      border-color: transparent;\n",
              "      border-bottom-color: var(--fill-color);\n",
              "      border-left-color: var(--fill-color);\n",
              "    }\n",
              "    20% {\n",
              "      border-color: transparent;\n",
              "      border-left-color: var(--fill-color);\n",
              "      border-top-color: var(--fill-color);\n",
              "    }\n",
              "    30% {\n",
              "      border-color: transparent;\n",
              "      border-left-color: var(--fill-color);\n",
              "      border-top-color: var(--fill-color);\n",
              "      border-right-color: var(--fill-color);\n",
              "    }\n",
              "    40% {\n",
              "      border-color: transparent;\n",
              "      border-right-color: var(--fill-color);\n",
              "      border-top-color: var(--fill-color);\n",
              "    }\n",
              "    60% {\n",
              "      border-color: transparent;\n",
              "      border-right-color: var(--fill-color);\n",
              "    }\n",
              "    80% {\n",
              "      border-color: transparent;\n",
              "      border-right-color: var(--fill-color);\n",
              "      border-bottom-color: var(--fill-color);\n",
              "    }\n",
              "    90% {\n",
              "      border-color: transparent;\n",
              "      border-bottom-color: var(--fill-color);\n",
              "    }\n",
              "  }\n",
              "</style>\n",
              "\n",
              "  <script>\n",
              "    async function quickchart(key) {\n",
              "      const quickchartButtonEl =\n",
              "        document.querySelector('#' + key + ' button');\n",
              "      quickchartButtonEl.disabled = true;  // To prevent multiple clicks.\n",
              "      quickchartButtonEl.classList.add('colab-df-spinner');\n",
              "      try {\n",
              "        const charts = await google.colab.kernel.invokeFunction(\n",
              "            'suggestCharts', [key], {});\n",
              "      } catch (error) {\n",
              "        console.error('Error during call to suggestCharts:', error);\n",
              "      }\n",
              "      quickchartButtonEl.classList.remove('colab-df-spinner');\n",
              "      quickchartButtonEl.classList.add('colab-df-quickchart-complete');\n",
              "    }\n",
              "    (() => {\n",
              "      let quickchartButtonEl =\n",
              "        document.querySelector('#df-d3d8a11c-74ea-4e04-9599-e46b3aa04cac button');\n",
              "      quickchartButtonEl.style.display =\n",
              "        google.colab.kernel.accessAllowed ? 'block' : 'none';\n",
              "    })();\n",
              "  </script>\n",
              "</div>\n",
              "    </div>\n",
              "  </div>\n"
            ]
          },
          "metadata": {},
          "execution_count": 24
        }
      ]
    },
    {
      "cell_type": "markdown",
      "source": [
        "OK, now we should deal with the categorical vaiables, one fun and very effective way can be transforming these categorical data to **one-hot encoding**  \n",
        "\n",
        "**pd.get_dummies** does that for us"
      ],
      "metadata": {
        "id": "Nto9Q89bAxXF"
      }
    },
    {
      "cell_type": "code",
      "source": [
        "df = pd.get_dummies(df, columns=['Disease', 'Gender', 'Blood Pressure', 'Cholesterol Level'], drop_first=True)\n"
      ],
      "metadata": {
        "id": "61cCwkl8BLZn"
      },
      "execution_count": null,
      "outputs": []
    },
    {
      "cell_type": "code",
      "source": [
        "df"
      ],
      "metadata": {
        "colab": {
          "base_uri": "https://localhost:8080/",
          "height": 478
        },
        "id": "xEGoc9w7BOmU",
        "outputId": "d1445d0c-19a1-4b8d-959d-9bd90c70b3a6"
      },
      "execution_count": null,
      "outputs": [
        {
          "output_type": "execute_result",
          "data": {
            "text/plain": [
              "    Fever Cough Fatigue Difficulty Breathing  Age Outcome Variable  \\\n",
              "0     Yes    No     Yes                  Yes   19         Positive   \n",
              "1      No   Yes     Yes                   No   25         Negative   \n",
              "2      No   Yes     Yes                   No   25         Negative   \n",
              "3     Yes   Yes      No                  Yes   25         Positive   \n",
              "4     Yes   Yes      No                  Yes   25         Positive   \n",
              "..    ...   ...     ...                  ...  ...              ...   \n",
              "344   Yes    No     Yes                   No   80         Positive   \n",
              "345   Yes    No     Yes                   No   85         Positive   \n",
              "346   Yes    No     Yes                   No   85         Positive   \n",
              "347   Yes    No     Yes                   No   90         Positive   \n",
              "348   Yes    No     Yes                   No   90         Positive   \n",
              "\n",
              "     Disease_Allergic Rhinitis  Disease_Alzheimer's Disease  Disease_Anemia  \\\n",
              "0                            0                            0               0   \n",
              "1                            0                            0               0   \n",
              "2                            0                            0               0   \n",
              "3                            0                            0               0   \n",
              "4                            0                            0               0   \n",
              "..                         ...                          ...             ...   \n",
              "344                          0                            0               0   \n",
              "345                          0                            0               0   \n",
              "346                          0                            0               0   \n",
              "347                          0                            0               0   \n",
              "348                          0                            0               0   \n",
              "\n",
              "     Disease_Anxiety Disorders  ...  Disease_Ulcerative Colitis  \\\n",
              "0                            0  ...                           0   \n",
              "1                            0  ...                           0   \n",
              "2                            0  ...                           0   \n",
              "3                            0  ...                           0   \n",
              "4                            0  ...                           0   \n",
              "..                         ...  ...                         ...   \n",
              "344                          0  ...                           0   \n",
              "345                          0  ...                           0   \n",
              "346                          0  ...                           0   \n",
              "347                          0  ...                           0   \n",
              "348                          0  ...                           0   \n",
              "\n",
              "     Disease_Urinary Tract Infection  Disease_Urinary Tract Infection (UTI)  \\\n",
              "0                                  0                                      0   \n",
              "1                                  0                                      0   \n",
              "2                                  0                                      0   \n",
              "3                                  0                                      0   \n",
              "4                                  0                                      0   \n",
              "..                               ...                                    ...   \n",
              "344                                0                                      0   \n",
              "345                                0                                      0   \n",
              "346                                0                                      0   \n",
              "347                                0                                      0   \n",
              "348                                0                                      0   \n",
              "\n",
              "     Disease_Williams Syndrome  Disease_Zika Virus  Gender_Male  \\\n",
              "0                            0                   0            0   \n",
              "1                            0                   0            0   \n",
              "2                            0                   0            0   \n",
              "3                            0                   0            1   \n",
              "4                            0                   0            1   \n",
              "..                         ...                 ...          ...   \n",
              "344                          0                   0            0   \n",
              "345                          0                   0            1   \n",
              "346                          0                   0            1   \n",
              "347                          0                   0            0   \n",
              "348                          0                   0            0   \n",
              "\n",
              "     Blood Pressure_Low  Blood Pressure_Normal  Cholesterol Level_Low  \\\n",
              "0                     1                      0                      0   \n",
              "1                     0                      1                      0   \n",
              "2                     0                      1                      0   \n",
              "3                     0                      1                      0   \n",
              "4                     0                      1                      0   \n",
              "..                  ...                    ...                    ...   \n",
              "344                   0                      0                      0   \n",
              "345                   0                      0                      0   \n",
              "346                   0                      0                      0   \n",
              "347                   0                      0                      0   \n",
              "348                   0                      0                      0   \n",
              "\n",
              "     Cholesterol Level_Normal  \n",
              "0                           1  \n",
              "1                           1  \n",
              "2                           1  \n",
              "3                           1  \n",
              "4                           1  \n",
              "..                        ...  \n",
              "344                         0  \n",
              "345                         0  \n",
              "346                         0  \n",
              "347                         0  \n",
              "348                         0  \n",
              "\n",
              "[349 rows x 126 columns]"
            ],
            "text/html": [
              "\n",
              "  <div id=\"df-fb38d04d-ced1-42d8-a5cd-b6363b267a89\" class=\"colab-df-container\">\n",
              "    <div>\n",
              "<style scoped>\n",
              "    .dataframe tbody tr th:only-of-type {\n",
              "        vertical-align: middle;\n",
              "    }\n",
              "\n",
              "    .dataframe tbody tr th {\n",
              "        vertical-align: top;\n",
              "    }\n",
              "\n",
              "    .dataframe thead th {\n",
              "        text-align: right;\n",
              "    }\n",
              "</style>\n",
              "<table border=\"1\" class=\"dataframe\">\n",
              "  <thead>\n",
              "    <tr style=\"text-align: right;\">\n",
              "      <th></th>\n",
              "      <th>Fever</th>\n",
              "      <th>Cough</th>\n",
              "      <th>Fatigue</th>\n",
              "      <th>Difficulty Breathing</th>\n",
              "      <th>Age</th>\n",
              "      <th>Outcome Variable</th>\n",
              "      <th>Disease_Allergic Rhinitis</th>\n",
              "      <th>Disease_Alzheimer's Disease</th>\n",
              "      <th>Disease_Anemia</th>\n",
              "      <th>Disease_Anxiety Disorders</th>\n",
              "      <th>...</th>\n",
              "      <th>Disease_Ulcerative Colitis</th>\n",
              "      <th>Disease_Urinary Tract Infection</th>\n",
              "      <th>Disease_Urinary Tract Infection (UTI)</th>\n",
              "      <th>Disease_Williams Syndrome</th>\n",
              "      <th>Disease_Zika Virus</th>\n",
              "      <th>Gender_Male</th>\n",
              "      <th>Blood Pressure_Low</th>\n",
              "      <th>Blood Pressure_Normal</th>\n",
              "      <th>Cholesterol Level_Low</th>\n",
              "      <th>Cholesterol Level_Normal</th>\n",
              "    </tr>\n",
              "  </thead>\n",
              "  <tbody>\n",
              "    <tr>\n",
              "      <th>0</th>\n",
              "      <td>Yes</td>\n",
              "      <td>No</td>\n",
              "      <td>Yes</td>\n",
              "      <td>Yes</td>\n",
              "      <td>19</td>\n",
              "      <td>Positive</td>\n",
              "      <td>0</td>\n",
              "      <td>0</td>\n",
              "      <td>0</td>\n",
              "      <td>0</td>\n",
              "      <td>...</td>\n",
              "      <td>0</td>\n",
              "      <td>0</td>\n",
              "      <td>0</td>\n",
              "      <td>0</td>\n",
              "      <td>0</td>\n",
              "      <td>0</td>\n",
              "      <td>1</td>\n",
              "      <td>0</td>\n",
              "      <td>0</td>\n",
              "      <td>1</td>\n",
              "    </tr>\n",
              "    <tr>\n",
              "      <th>1</th>\n",
              "      <td>No</td>\n",
              "      <td>Yes</td>\n",
              "      <td>Yes</td>\n",
              "      <td>No</td>\n",
              "      <td>25</td>\n",
              "      <td>Negative</td>\n",
              "      <td>0</td>\n",
              "      <td>0</td>\n",
              "      <td>0</td>\n",
              "      <td>0</td>\n",
              "      <td>...</td>\n",
              "      <td>0</td>\n",
              "      <td>0</td>\n",
              "      <td>0</td>\n",
              "      <td>0</td>\n",
              "      <td>0</td>\n",
              "      <td>0</td>\n",
              "      <td>0</td>\n",
              "      <td>1</td>\n",
              "      <td>0</td>\n",
              "      <td>1</td>\n",
              "    </tr>\n",
              "    <tr>\n",
              "      <th>2</th>\n",
              "      <td>No</td>\n",
              "      <td>Yes</td>\n",
              "      <td>Yes</td>\n",
              "      <td>No</td>\n",
              "      <td>25</td>\n",
              "      <td>Negative</td>\n",
              "      <td>0</td>\n",
              "      <td>0</td>\n",
              "      <td>0</td>\n",
              "      <td>0</td>\n",
              "      <td>...</td>\n",
              "      <td>0</td>\n",
              "      <td>0</td>\n",
              "      <td>0</td>\n",
              "      <td>0</td>\n",
              "      <td>0</td>\n",
              "      <td>0</td>\n",
              "      <td>0</td>\n",
              "      <td>1</td>\n",
              "      <td>0</td>\n",
              "      <td>1</td>\n",
              "    </tr>\n",
              "    <tr>\n",
              "      <th>3</th>\n",
              "      <td>Yes</td>\n",
              "      <td>Yes</td>\n",
              "      <td>No</td>\n",
              "      <td>Yes</td>\n",
              "      <td>25</td>\n",
              "      <td>Positive</td>\n",
              "      <td>0</td>\n",
              "      <td>0</td>\n",
              "      <td>0</td>\n",
              "      <td>0</td>\n",
              "      <td>...</td>\n",
              "      <td>0</td>\n",
              "      <td>0</td>\n",
              "      <td>0</td>\n",
              "      <td>0</td>\n",
              "      <td>0</td>\n",
              "      <td>1</td>\n",
              "      <td>0</td>\n",
              "      <td>1</td>\n",
              "      <td>0</td>\n",
              "      <td>1</td>\n",
              "    </tr>\n",
              "    <tr>\n",
              "      <th>4</th>\n",
              "      <td>Yes</td>\n",
              "      <td>Yes</td>\n",
              "      <td>No</td>\n",
              "      <td>Yes</td>\n",
              "      <td>25</td>\n",
              "      <td>Positive</td>\n",
              "      <td>0</td>\n",
              "      <td>0</td>\n",
              "      <td>0</td>\n",
              "      <td>0</td>\n",
              "      <td>...</td>\n",
              "      <td>0</td>\n",
              "      <td>0</td>\n",
              "      <td>0</td>\n",
              "      <td>0</td>\n",
              "      <td>0</td>\n",
              "      <td>1</td>\n",
              "      <td>0</td>\n",
              "      <td>1</td>\n",
              "      <td>0</td>\n",
              "      <td>1</td>\n",
              "    </tr>\n",
              "    <tr>\n",
              "      <th>...</th>\n",
              "      <td>...</td>\n",
              "      <td>...</td>\n",
              "      <td>...</td>\n",
              "      <td>...</td>\n",
              "      <td>...</td>\n",
              "      <td>...</td>\n",
              "      <td>...</td>\n",
              "      <td>...</td>\n",
              "      <td>...</td>\n",
              "      <td>...</td>\n",
              "      <td>...</td>\n",
              "      <td>...</td>\n",
              "      <td>...</td>\n",
              "      <td>...</td>\n",
              "      <td>...</td>\n",
              "      <td>...</td>\n",
              "      <td>...</td>\n",
              "      <td>...</td>\n",
              "      <td>...</td>\n",
              "      <td>...</td>\n",
              "      <td>...</td>\n",
              "    </tr>\n",
              "    <tr>\n",
              "      <th>344</th>\n",
              "      <td>Yes</td>\n",
              "      <td>No</td>\n",
              "      <td>Yes</td>\n",
              "      <td>No</td>\n",
              "      <td>80</td>\n",
              "      <td>Positive</td>\n",
              "      <td>0</td>\n",
              "      <td>0</td>\n",
              "      <td>0</td>\n",
              "      <td>0</td>\n",
              "      <td>...</td>\n",
              "      <td>0</td>\n",
              "      <td>0</td>\n",
              "      <td>0</td>\n",
              "      <td>0</td>\n",
              "      <td>0</td>\n",
              "      <td>0</td>\n",
              "      <td>0</td>\n",
              "      <td>0</td>\n",
              "      <td>0</td>\n",
              "      <td>0</td>\n",
              "    </tr>\n",
              "    <tr>\n",
              "      <th>345</th>\n",
              "      <td>Yes</td>\n",
              "      <td>No</td>\n",
              "      <td>Yes</td>\n",
              "      <td>No</td>\n",
              "      <td>85</td>\n",
              "      <td>Positive</td>\n",
              "      <td>0</td>\n",
              "      <td>0</td>\n",
              "      <td>0</td>\n",
              "      <td>0</td>\n",
              "      <td>...</td>\n",
              "      <td>0</td>\n",
              "      <td>0</td>\n",
              "      <td>0</td>\n",
              "      <td>0</td>\n",
              "      <td>0</td>\n",
              "      <td>1</td>\n",
              "      <td>0</td>\n",
              "      <td>0</td>\n",
              "      <td>0</td>\n",
              "      <td>0</td>\n",
              "    </tr>\n",
              "    <tr>\n",
              "      <th>346</th>\n",
              "      <td>Yes</td>\n",
              "      <td>No</td>\n",
              "      <td>Yes</td>\n",
              "      <td>No</td>\n",
              "      <td>85</td>\n",
              "      <td>Positive</td>\n",
              "      <td>0</td>\n",
              "      <td>0</td>\n",
              "      <td>0</td>\n",
              "      <td>0</td>\n",
              "      <td>...</td>\n",
              "      <td>0</td>\n",
              "      <td>0</td>\n",
              "      <td>0</td>\n",
              "      <td>0</td>\n",
              "      <td>0</td>\n",
              "      <td>1</td>\n",
              "      <td>0</td>\n",
              "      <td>0</td>\n",
              "      <td>0</td>\n",
              "      <td>0</td>\n",
              "    </tr>\n",
              "    <tr>\n",
              "      <th>347</th>\n",
              "      <td>Yes</td>\n",
              "      <td>No</td>\n",
              "      <td>Yes</td>\n",
              "      <td>No</td>\n",
              "      <td>90</td>\n",
              "      <td>Positive</td>\n",
              "      <td>0</td>\n",
              "      <td>0</td>\n",
              "      <td>0</td>\n",
              "      <td>0</td>\n",
              "      <td>...</td>\n",
              "      <td>0</td>\n",
              "      <td>0</td>\n",
              "      <td>0</td>\n",
              "      <td>0</td>\n",
              "      <td>0</td>\n",
              "      <td>0</td>\n",
              "      <td>0</td>\n",
              "      <td>0</td>\n",
              "      <td>0</td>\n",
              "      <td>0</td>\n",
              "    </tr>\n",
              "    <tr>\n",
              "      <th>348</th>\n",
              "      <td>Yes</td>\n",
              "      <td>No</td>\n",
              "      <td>Yes</td>\n",
              "      <td>No</td>\n",
              "      <td>90</td>\n",
              "      <td>Positive</td>\n",
              "      <td>0</td>\n",
              "      <td>0</td>\n",
              "      <td>0</td>\n",
              "      <td>0</td>\n",
              "      <td>...</td>\n",
              "      <td>0</td>\n",
              "      <td>0</td>\n",
              "      <td>0</td>\n",
              "      <td>0</td>\n",
              "      <td>0</td>\n",
              "      <td>0</td>\n",
              "      <td>0</td>\n",
              "      <td>0</td>\n",
              "      <td>0</td>\n",
              "      <td>0</td>\n",
              "    </tr>\n",
              "  </tbody>\n",
              "</table>\n",
              "<p>349 rows × 126 columns</p>\n",
              "</div>\n",
              "    <div class=\"colab-df-buttons\">\n",
              "\n",
              "  <div class=\"colab-df-container\">\n",
              "    <button class=\"colab-df-convert\" onclick=\"convertToInteractive('df-fb38d04d-ced1-42d8-a5cd-b6363b267a89')\"\n",
              "            title=\"Convert this dataframe to an interactive table.\"\n",
              "            style=\"display:none;\">\n",
              "\n",
              "  <svg xmlns=\"http://www.w3.org/2000/svg\" height=\"24px\" viewBox=\"0 -960 960 960\">\n",
              "    <path d=\"M120-120v-720h720v720H120Zm60-500h600v-160H180v160Zm220 220h160v-160H400v160Zm0 220h160v-160H400v160ZM180-400h160v-160H180v160Zm440 0h160v-160H620v160ZM180-180h160v-160H180v160Zm440 0h160v-160H620v160Z\"/>\n",
              "  </svg>\n",
              "    </button>\n",
              "\n",
              "  <style>\n",
              "    .colab-df-container {\n",
              "      display:flex;\n",
              "      gap: 12px;\n",
              "    }\n",
              "\n",
              "    .colab-df-convert {\n",
              "      background-color: #E8F0FE;\n",
              "      border: none;\n",
              "      border-radius: 50%;\n",
              "      cursor: pointer;\n",
              "      display: none;\n",
              "      fill: #1967D2;\n",
              "      height: 32px;\n",
              "      padding: 0 0 0 0;\n",
              "      width: 32px;\n",
              "    }\n",
              "\n",
              "    .colab-df-convert:hover {\n",
              "      background-color: #E2EBFA;\n",
              "      box-shadow: 0px 1px 2px rgba(60, 64, 67, 0.3), 0px 1px 3px 1px rgba(60, 64, 67, 0.15);\n",
              "      fill: #174EA6;\n",
              "    }\n",
              "\n",
              "    .colab-df-buttons div {\n",
              "      margin-bottom: 4px;\n",
              "    }\n",
              "\n",
              "    [theme=dark] .colab-df-convert {\n",
              "      background-color: #3B4455;\n",
              "      fill: #D2E3FC;\n",
              "    }\n",
              "\n",
              "    [theme=dark] .colab-df-convert:hover {\n",
              "      background-color: #434B5C;\n",
              "      box-shadow: 0px 1px 3px 1px rgba(0, 0, 0, 0.15);\n",
              "      filter: drop-shadow(0px 1px 2px rgba(0, 0, 0, 0.3));\n",
              "      fill: #FFFFFF;\n",
              "    }\n",
              "  </style>\n",
              "\n",
              "    <script>\n",
              "      const buttonEl =\n",
              "        document.querySelector('#df-fb38d04d-ced1-42d8-a5cd-b6363b267a89 button.colab-df-convert');\n",
              "      buttonEl.style.display =\n",
              "        google.colab.kernel.accessAllowed ? 'block' : 'none';\n",
              "\n",
              "      async function convertToInteractive(key) {\n",
              "        const element = document.querySelector('#df-fb38d04d-ced1-42d8-a5cd-b6363b267a89');\n",
              "        const dataTable =\n",
              "          await google.colab.kernel.invokeFunction('convertToInteractive',\n",
              "                                                    [key], {});\n",
              "        if (!dataTable) return;\n",
              "\n",
              "        const docLinkHtml = 'Like what you see? Visit the ' +\n",
              "          '<a target=\"_blank\" href=https://colab.research.google.com/notebooks/data_table.ipynb>data table notebook</a>'\n",
              "          + ' to learn more about interactive tables.';\n",
              "        element.innerHTML = '';\n",
              "        dataTable['output_type'] = 'display_data';\n",
              "        await google.colab.output.renderOutput(dataTable, element);\n",
              "        const docLink = document.createElement('div');\n",
              "        docLink.innerHTML = docLinkHtml;\n",
              "        element.appendChild(docLink);\n",
              "      }\n",
              "    </script>\n",
              "  </div>\n",
              "\n",
              "\n",
              "<div id=\"df-73d9bc23-b53c-4ad7-bd9d-cd3daa56f1b2\">\n",
              "  <button class=\"colab-df-quickchart\" onclick=\"quickchart('df-73d9bc23-b53c-4ad7-bd9d-cd3daa56f1b2')\"\n",
              "            title=\"Suggest charts\"\n",
              "            style=\"display:none;\">\n",
              "\n",
              "<svg xmlns=\"http://www.w3.org/2000/svg\" height=\"24px\"viewBox=\"0 0 24 24\"\n",
              "     width=\"24px\">\n",
              "    <g>\n",
              "        <path d=\"M19 3H5c-1.1 0-2 .9-2 2v14c0 1.1.9 2 2 2h14c1.1 0 2-.9 2-2V5c0-1.1-.9-2-2-2zM9 17H7v-7h2v7zm4 0h-2V7h2v10zm4 0h-2v-4h2v4z\"/>\n",
              "    </g>\n",
              "</svg>\n",
              "  </button>\n",
              "\n",
              "<style>\n",
              "  .colab-df-quickchart {\n",
              "      --bg-color: #E8F0FE;\n",
              "      --fill-color: #1967D2;\n",
              "      --hover-bg-color: #E2EBFA;\n",
              "      --hover-fill-color: #174EA6;\n",
              "      --disabled-fill-color: #AAA;\n",
              "      --disabled-bg-color: #DDD;\n",
              "  }\n",
              "\n",
              "  [theme=dark] .colab-df-quickchart {\n",
              "      --bg-color: #3B4455;\n",
              "      --fill-color: #D2E3FC;\n",
              "      --hover-bg-color: #434B5C;\n",
              "      --hover-fill-color: #FFFFFF;\n",
              "      --disabled-bg-color: #3B4455;\n",
              "      --disabled-fill-color: #666;\n",
              "  }\n",
              "\n",
              "  .colab-df-quickchart {\n",
              "    background-color: var(--bg-color);\n",
              "    border: none;\n",
              "    border-radius: 50%;\n",
              "    cursor: pointer;\n",
              "    display: none;\n",
              "    fill: var(--fill-color);\n",
              "    height: 32px;\n",
              "    padding: 0;\n",
              "    width: 32px;\n",
              "  }\n",
              "\n",
              "  .colab-df-quickchart:hover {\n",
              "    background-color: var(--hover-bg-color);\n",
              "    box-shadow: 0 1px 2px rgba(60, 64, 67, 0.3), 0 1px 3px 1px rgba(60, 64, 67, 0.15);\n",
              "    fill: var(--button-hover-fill-color);\n",
              "  }\n",
              "\n",
              "  .colab-df-quickchart-complete:disabled,\n",
              "  .colab-df-quickchart-complete:disabled:hover {\n",
              "    background-color: var(--disabled-bg-color);\n",
              "    fill: var(--disabled-fill-color);\n",
              "    box-shadow: none;\n",
              "  }\n",
              "\n",
              "  .colab-df-spinner {\n",
              "    border: 2px solid var(--fill-color);\n",
              "    border-color: transparent;\n",
              "    border-bottom-color: var(--fill-color);\n",
              "    animation:\n",
              "      spin 1s steps(1) infinite;\n",
              "  }\n",
              "\n",
              "  @keyframes spin {\n",
              "    0% {\n",
              "      border-color: transparent;\n",
              "      border-bottom-color: var(--fill-color);\n",
              "      border-left-color: var(--fill-color);\n",
              "    }\n",
              "    20% {\n",
              "      border-color: transparent;\n",
              "      border-left-color: var(--fill-color);\n",
              "      border-top-color: var(--fill-color);\n",
              "    }\n",
              "    30% {\n",
              "      border-color: transparent;\n",
              "      border-left-color: var(--fill-color);\n",
              "      border-top-color: var(--fill-color);\n",
              "      border-right-color: var(--fill-color);\n",
              "    }\n",
              "    40% {\n",
              "      border-color: transparent;\n",
              "      border-right-color: var(--fill-color);\n",
              "      border-top-color: var(--fill-color);\n",
              "    }\n",
              "    60% {\n",
              "      border-color: transparent;\n",
              "      border-right-color: var(--fill-color);\n",
              "    }\n",
              "    80% {\n",
              "      border-color: transparent;\n",
              "      border-right-color: var(--fill-color);\n",
              "      border-bottom-color: var(--fill-color);\n",
              "    }\n",
              "    90% {\n",
              "      border-color: transparent;\n",
              "      border-bottom-color: var(--fill-color);\n",
              "    }\n",
              "  }\n",
              "</style>\n",
              "\n",
              "  <script>\n",
              "    async function quickchart(key) {\n",
              "      const quickchartButtonEl =\n",
              "        document.querySelector('#' + key + ' button');\n",
              "      quickchartButtonEl.disabled = true;  // To prevent multiple clicks.\n",
              "      quickchartButtonEl.classList.add('colab-df-spinner');\n",
              "      try {\n",
              "        const charts = await google.colab.kernel.invokeFunction(\n",
              "            'suggestCharts', [key], {});\n",
              "      } catch (error) {\n",
              "        console.error('Error during call to suggestCharts:', error);\n",
              "      }\n",
              "      quickchartButtonEl.classList.remove('colab-df-spinner');\n",
              "      quickchartButtonEl.classList.add('colab-df-quickchart-complete');\n",
              "    }\n",
              "    (() => {\n",
              "      let quickchartButtonEl =\n",
              "        document.querySelector('#df-73d9bc23-b53c-4ad7-bd9d-cd3daa56f1b2 button');\n",
              "      quickchartButtonEl.style.display =\n",
              "        google.colab.kernel.accessAllowed ? 'block' : 'none';\n",
              "    })();\n",
              "  </script>\n",
              "</div>\n",
              "    </div>\n",
              "  </div>\n"
            ]
          },
          "metadata": {},
          "execution_count": 26
        }
      ]
    },
    {
      "cell_type": "markdown",
      "source": [
        "Great, now the only part remaining here is use binary_encoders for the \"Yes/No\" columns and also standardize the age column for having better data. at last, we encode the final Outcome Variables too!"
      ],
      "metadata": {
        "id": "MrDbzoaqBVcB"
      }
    },
    {
      "cell_type": "code",
      "source": [
        "# binary encoding\n",
        "binary_encoder = LabelEncoder()\n",
        "df['Fever'] = binary_encoder.fit_transform(df['Fever'])\n",
        "df['Cough'] = binary_encoder.fit_transform(df['Cough'])\n",
        "df['Fatigue'] = binary_encoder.fit_transform(df['Fatigue'])\n",
        "df['Difficulty Breathing'] = binary_encoder.fit_transform(df['Difficulty Breathing'])\n",
        "\n",
        "# numerical standardazation\n",
        "scaler = StandardScaler()\n",
        "df['Age'] = scaler.fit_transform(df[['Age']])\n",
        "\n",
        "label_encoder = LabelEncoder()\n",
        "df['Outcome Variable'] = label_encoder.fit_transform(df['Outcome Variable'])\n"
      ],
      "metadata": {
        "id": "klXV_jiZw6Zw"
      },
      "execution_count": null,
      "outputs": []
    },
    {
      "cell_type": "markdown",
      "source": [
        "let's see what we've done so far"
      ],
      "metadata": {
        "id": "JclY5CncCdlI"
      }
    },
    {
      "cell_type": "code",
      "source": [
        "df"
      ],
      "metadata": {
        "colab": {
          "base_uri": "https://localhost:8080/",
          "height": 478
        },
        "id": "eJH3is4ACdQG",
        "outputId": "23d90315-30ab-4fd7-d704-bcfb79e0a00a"
      },
      "execution_count": null,
      "outputs": [
        {
          "output_type": "execute_result",
          "data": {
            "text/plain": [
              "     Fever  Cough  Fatigue  Difficulty Breathing       Age  Outcome Variable  \\\n",
              "0        1      0        1                     1 -2.091160                 1   \n",
              "1        0      1        1                     0 -1.631964                 0   \n",
              "2        0      1        1                     0 -1.631964                 0   \n",
              "3        1      1        0                     1 -1.631964                 1   \n",
              "4        1      1        0                     1 -1.631964                 1   \n",
              "..     ...    ...      ...                   ...       ...               ...   \n",
              "344      1      0        1                     0  2.577328                 1   \n",
              "345      1      0        1                     0  2.959991                 1   \n",
              "346      1      0        1                     0  2.959991                 1   \n",
              "347      1      0        1                     0  3.342654                 1   \n",
              "348      1      0        1                     0  3.342654                 1   \n",
              "\n",
              "     Disease_Allergic Rhinitis  Disease_Alzheimer's Disease  Disease_Anemia  \\\n",
              "0                            0                            0               0   \n",
              "1                            0                            0               0   \n",
              "2                            0                            0               0   \n",
              "3                            0                            0               0   \n",
              "4                            0                            0               0   \n",
              "..                         ...                          ...             ...   \n",
              "344                          0                            0               0   \n",
              "345                          0                            0               0   \n",
              "346                          0                            0               0   \n",
              "347                          0                            0               0   \n",
              "348                          0                            0               0   \n",
              "\n",
              "     Disease_Anxiety Disorders  ...  Disease_Ulcerative Colitis  \\\n",
              "0                            0  ...                           0   \n",
              "1                            0  ...                           0   \n",
              "2                            0  ...                           0   \n",
              "3                            0  ...                           0   \n",
              "4                            0  ...                           0   \n",
              "..                         ...  ...                         ...   \n",
              "344                          0  ...                           0   \n",
              "345                          0  ...                           0   \n",
              "346                          0  ...                           0   \n",
              "347                          0  ...                           0   \n",
              "348                          0  ...                           0   \n",
              "\n",
              "     Disease_Urinary Tract Infection  Disease_Urinary Tract Infection (UTI)  \\\n",
              "0                                  0                                      0   \n",
              "1                                  0                                      0   \n",
              "2                                  0                                      0   \n",
              "3                                  0                                      0   \n",
              "4                                  0                                      0   \n",
              "..                               ...                                    ...   \n",
              "344                                0                                      0   \n",
              "345                                0                                      0   \n",
              "346                                0                                      0   \n",
              "347                                0                                      0   \n",
              "348                                0                                      0   \n",
              "\n",
              "     Disease_Williams Syndrome  Disease_Zika Virus  Gender_Male  \\\n",
              "0                            0                   0            0   \n",
              "1                            0                   0            0   \n",
              "2                            0                   0            0   \n",
              "3                            0                   0            1   \n",
              "4                            0                   0            1   \n",
              "..                         ...                 ...          ...   \n",
              "344                          0                   0            0   \n",
              "345                          0                   0            1   \n",
              "346                          0                   0            1   \n",
              "347                          0                   0            0   \n",
              "348                          0                   0            0   \n",
              "\n",
              "     Blood Pressure_Low  Blood Pressure_Normal  Cholesterol Level_Low  \\\n",
              "0                     1                      0                      0   \n",
              "1                     0                      1                      0   \n",
              "2                     0                      1                      0   \n",
              "3                     0                      1                      0   \n",
              "4                     0                      1                      0   \n",
              "..                  ...                    ...                    ...   \n",
              "344                   0                      0                      0   \n",
              "345                   0                      0                      0   \n",
              "346                   0                      0                      0   \n",
              "347                   0                      0                      0   \n",
              "348                   0                      0                      0   \n",
              "\n",
              "     Cholesterol Level_Normal  \n",
              "0                           1  \n",
              "1                           1  \n",
              "2                           1  \n",
              "3                           1  \n",
              "4                           1  \n",
              "..                        ...  \n",
              "344                         0  \n",
              "345                         0  \n",
              "346                         0  \n",
              "347                         0  \n",
              "348                         0  \n",
              "\n",
              "[349 rows x 126 columns]"
            ],
            "text/html": [
              "\n",
              "  <div id=\"df-d952dc2d-d680-4041-bb23-194f3e5277b1\" class=\"colab-df-container\">\n",
              "    <div>\n",
              "<style scoped>\n",
              "    .dataframe tbody tr th:only-of-type {\n",
              "        vertical-align: middle;\n",
              "    }\n",
              "\n",
              "    .dataframe tbody tr th {\n",
              "        vertical-align: top;\n",
              "    }\n",
              "\n",
              "    .dataframe thead th {\n",
              "        text-align: right;\n",
              "    }\n",
              "</style>\n",
              "<table border=\"1\" class=\"dataframe\">\n",
              "  <thead>\n",
              "    <tr style=\"text-align: right;\">\n",
              "      <th></th>\n",
              "      <th>Fever</th>\n",
              "      <th>Cough</th>\n",
              "      <th>Fatigue</th>\n",
              "      <th>Difficulty Breathing</th>\n",
              "      <th>Age</th>\n",
              "      <th>Outcome Variable</th>\n",
              "      <th>Disease_Allergic Rhinitis</th>\n",
              "      <th>Disease_Alzheimer's Disease</th>\n",
              "      <th>Disease_Anemia</th>\n",
              "      <th>Disease_Anxiety Disorders</th>\n",
              "      <th>...</th>\n",
              "      <th>Disease_Ulcerative Colitis</th>\n",
              "      <th>Disease_Urinary Tract Infection</th>\n",
              "      <th>Disease_Urinary Tract Infection (UTI)</th>\n",
              "      <th>Disease_Williams Syndrome</th>\n",
              "      <th>Disease_Zika Virus</th>\n",
              "      <th>Gender_Male</th>\n",
              "      <th>Blood Pressure_Low</th>\n",
              "      <th>Blood Pressure_Normal</th>\n",
              "      <th>Cholesterol Level_Low</th>\n",
              "      <th>Cholesterol Level_Normal</th>\n",
              "    </tr>\n",
              "  </thead>\n",
              "  <tbody>\n",
              "    <tr>\n",
              "      <th>0</th>\n",
              "      <td>1</td>\n",
              "      <td>0</td>\n",
              "      <td>1</td>\n",
              "      <td>1</td>\n",
              "      <td>-2.091160</td>\n",
              "      <td>1</td>\n",
              "      <td>0</td>\n",
              "      <td>0</td>\n",
              "      <td>0</td>\n",
              "      <td>0</td>\n",
              "      <td>...</td>\n",
              "      <td>0</td>\n",
              "      <td>0</td>\n",
              "      <td>0</td>\n",
              "      <td>0</td>\n",
              "      <td>0</td>\n",
              "      <td>0</td>\n",
              "      <td>1</td>\n",
              "      <td>0</td>\n",
              "      <td>0</td>\n",
              "      <td>1</td>\n",
              "    </tr>\n",
              "    <tr>\n",
              "      <th>1</th>\n",
              "      <td>0</td>\n",
              "      <td>1</td>\n",
              "      <td>1</td>\n",
              "      <td>0</td>\n",
              "      <td>-1.631964</td>\n",
              "      <td>0</td>\n",
              "      <td>0</td>\n",
              "      <td>0</td>\n",
              "      <td>0</td>\n",
              "      <td>0</td>\n",
              "      <td>...</td>\n",
              "      <td>0</td>\n",
              "      <td>0</td>\n",
              "      <td>0</td>\n",
              "      <td>0</td>\n",
              "      <td>0</td>\n",
              "      <td>0</td>\n",
              "      <td>0</td>\n",
              "      <td>1</td>\n",
              "      <td>0</td>\n",
              "      <td>1</td>\n",
              "    </tr>\n",
              "    <tr>\n",
              "      <th>2</th>\n",
              "      <td>0</td>\n",
              "      <td>1</td>\n",
              "      <td>1</td>\n",
              "      <td>0</td>\n",
              "      <td>-1.631964</td>\n",
              "      <td>0</td>\n",
              "      <td>0</td>\n",
              "      <td>0</td>\n",
              "      <td>0</td>\n",
              "      <td>0</td>\n",
              "      <td>...</td>\n",
              "      <td>0</td>\n",
              "      <td>0</td>\n",
              "      <td>0</td>\n",
              "      <td>0</td>\n",
              "      <td>0</td>\n",
              "      <td>0</td>\n",
              "      <td>0</td>\n",
              "      <td>1</td>\n",
              "      <td>0</td>\n",
              "      <td>1</td>\n",
              "    </tr>\n",
              "    <tr>\n",
              "      <th>3</th>\n",
              "      <td>1</td>\n",
              "      <td>1</td>\n",
              "      <td>0</td>\n",
              "      <td>1</td>\n",
              "      <td>-1.631964</td>\n",
              "      <td>1</td>\n",
              "      <td>0</td>\n",
              "      <td>0</td>\n",
              "      <td>0</td>\n",
              "      <td>0</td>\n",
              "      <td>...</td>\n",
              "      <td>0</td>\n",
              "      <td>0</td>\n",
              "      <td>0</td>\n",
              "      <td>0</td>\n",
              "      <td>0</td>\n",
              "      <td>1</td>\n",
              "      <td>0</td>\n",
              "      <td>1</td>\n",
              "      <td>0</td>\n",
              "      <td>1</td>\n",
              "    </tr>\n",
              "    <tr>\n",
              "      <th>4</th>\n",
              "      <td>1</td>\n",
              "      <td>1</td>\n",
              "      <td>0</td>\n",
              "      <td>1</td>\n",
              "      <td>-1.631964</td>\n",
              "      <td>1</td>\n",
              "      <td>0</td>\n",
              "      <td>0</td>\n",
              "      <td>0</td>\n",
              "      <td>0</td>\n",
              "      <td>...</td>\n",
              "      <td>0</td>\n",
              "      <td>0</td>\n",
              "      <td>0</td>\n",
              "      <td>0</td>\n",
              "      <td>0</td>\n",
              "      <td>1</td>\n",
              "      <td>0</td>\n",
              "      <td>1</td>\n",
              "      <td>0</td>\n",
              "      <td>1</td>\n",
              "    </tr>\n",
              "    <tr>\n",
              "      <th>...</th>\n",
              "      <td>...</td>\n",
              "      <td>...</td>\n",
              "      <td>...</td>\n",
              "      <td>...</td>\n",
              "      <td>...</td>\n",
              "      <td>...</td>\n",
              "      <td>...</td>\n",
              "      <td>...</td>\n",
              "      <td>...</td>\n",
              "      <td>...</td>\n",
              "      <td>...</td>\n",
              "      <td>...</td>\n",
              "      <td>...</td>\n",
              "      <td>...</td>\n",
              "      <td>...</td>\n",
              "      <td>...</td>\n",
              "      <td>...</td>\n",
              "      <td>...</td>\n",
              "      <td>...</td>\n",
              "      <td>...</td>\n",
              "      <td>...</td>\n",
              "    </tr>\n",
              "    <tr>\n",
              "      <th>344</th>\n",
              "      <td>1</td>\n",
              "      <td>0</td>\n",
              "      <td>1</td>\n",
              "      <td>0</td>\n",
              "      <td>2.577328</td>\n",
              "      <td>1</td>\n",
              "      <td>0</td>\n",
              "      <td>0</td>\n",
              "      <td>0</td>\n",
              "      <td>0</td>\n",
              "      <td>...</td>\n",
              "      <td>0</td>\n",
              "      <td>0</td>\n",
              "      <td>0</td>\n",
              "      <td>0</td>\n",
              "      <td>0</td>\n",
              "      <td>0</td>\n",
              "      <td>0</td>\n",
              "      <td>0</td>\n",
              "      <td>0</td>\n",
              "      <td>0</td>\n",
              "    </tr>\n",
              "    <tr>\n",
              "      <th>345</th>\n",
              "      <td>1</td>\n",
              "      <td>0</td>\n",
              "      <td>1</td>\n",
              "      <td>0</td>\n",
              "      <td>2.959991</td>\n",
              "      <td>1</td>\n",
              "      <td>0</td>\n",
              "      <td>0</td>\n",
              "      <td>0</td>\n",
              "      <td>0</td>\n",
              "      <td>...</td>\n",
              "      <td>0</td>\n",
              "      <td>0</td>\n",
              "      <td>0</td>\n",
              "      <td>0</td>\n",
              "      <td>0</td>\n",
              "      <td>1</td>\n",
              "      <td>0</td>\n",
              "      <td>0</td>\n",
              "      <td>0</td>\n",
              "      <td>0</td>\n",
              "    </tr>\n",
              "    <tr>\n",
              "      <th>346</th>\n",
              "      <td>1</td>\n",
              "      <td>0</td>\n",
              "      <td>1</td>\n",
              "      <td>0</td>\n",
              "      <td>2.959991</td>\n",
              "      <td>1</td>\n",
              "      <td>0</td>\n",
              "      <td>0</td>\n",
              "      <td>0</td>\n",
              "      <td>0</td>\n",
              "      <td>...</td>\n",
              "      <td>0</td>\n",
              "      <td>0</td>\n",
              "      <td>0</td>\n",
              "      <td>0</td>\n",
              "      <td>0</td>\n",
              "      <td>1</td>\n",
              "      <td>0</td>\n",
              "      <td>0</td>\n",
              "      <td>0</td>\n",
              "      <td>0</td>\n",
              "    </tr>\n",
              "    <tr>\n",
              "      <th>347</th>\n",
              "      <td>1</td>\n",
              "      <td>0</td>\n",
              "      <td>1</td>\n",
              "      <td>0</td>\n",
              "      <td>3.342654</td>\n",
              "      <td>1</td>\n",
              "      <td>0</td>\n",
              "      <td>0</td>\n",
              "      <td>0</td>\n",
              "      <td>0</td>\n",
              "      <td>...</td>\n",
              "      <td>0</td>\n",
              "      <td>0</td>\n",
              "      <td>0</td>\n",
              "      <td>0</td>\n",
              "      <td>0</td>\n",
              "      <td>0</td>\n",
              "      <td>0</td>\n",
              "      <td>0</td>\n",
              "      <td>0</td>\n",
              "      <td>0</td>\n",
              "    </tr>\n",
              "    <tr>\n",
              "      <th>348</th>\n",
              "      <td>1</td>\n",
              "      <td>0</td>\n",
              "      <td>1</td>\n",
              "      <td>0</td>\n",
              "      <td>3.342654</td>\n",
              "      <td>1</td>\n",
              "      <td>0</td>\n",
              "      <td>0</td>\n",
              "      <td>0</td>\n",
              "      <td>0</td>\n",
              "      <td>...</td>\n",
              "      <td>0</td>\n",
              "      <td>0</td>\n",
              "      <td>0</td>\n",
              "      <td>0</td>\n",
              "      <td>0</td>\n",
              "      <td>0</td>\n",
              "      <td>0</td>\n",
              "      <td>0</td>\n",
              "      <td>0</td>\n",
              "      <td>0</td>\n",
              "    </tr>\n",
              "  </tbody>\n",
              "</table>\n",
              "<p>349 rows × 126 columns</p>\n",
              "</div>\n",
              "    <div class=\"colab-df-buttons\">\n",
              "\n",
              "  <div class=\"colab-df-container\">\n",
              "    <button class=\"colab-df-convert\" onclick=\"convertToInteractive('df-d952dc2d-d680-4041-bb23-194f3e5277b1')\"\n",
              "            title=\"Convert this dataframe to an interactive table.\"\n",
              "            style=\"display:none;\">\n",
              "\n",
              "  <svg xmlns=\"http://www.w3.org/2000/svg\" height=\"24px\" viewBox=\"0 -960 960 960\">\n",
              "    <path d=\"M120-120v-720h720v720H120Zm60-500h600v-160H180v160Zm220 220h160v-160H400v160Zm0 220h160v-160H400v160ZM180-400h160v-160H180v160Zm440 0h160v-160H620v160ZM180-180h160v-160H180v160Zm440 0h160v-160H620v160Z\"/>\n",
              "  </svg>\n",
              "    </button>\n",
              "\n",
              "  <style>\n",
              "    .colab-df-container {\n",
              "      display:flex;\n",
              "      gap: 12px;\n",
              "    }\n",
              "\n",
              "    .colab-df-convert {\n",
              "      background-color: #E8F0FE;\n",
              "      border: none;\n",
              "      border-radius: 50%;\n",
              "      cursor: pointer;\n",
              "      display: none;\n",
              "      fill: #1967D2;\n",
              "      height: 32px;\n",
              "      padding: 0 0 0 0;\n",
              "      width: 32px;\n",
              "    }\n",
              "\n",
              "    .colab-df-convert:hover {\n",
              "      background-color: #E2EBFA;\n",
              "      box-shadow: 0px 1px 2px rgba(60, 64, 67, 0.3), 0px 1px 3px 1px rgba(60, 64, 67, 0.15);\n",
              "      fill: #174EA6;\n",
              "    }\n",
              "\n",
              "    .colab-df-buttons div {\n",
              "      margin-bottom: 4px;\n",
              "    }\n",
              "\n",
              "    [theme=dark] .colab-df-convert {\n",
              "      background-color: #3B4455;\n",
              "      fill: #D2E3FC;\n",
              "    }\n",
              "\n",
              "    [theme=dark] .colab-df-convert:hover {\n",
              "      background-color: #434B5C;\n",
              "      box-shadow: 0px 1px 3px 1px rgba(0, 0, 0, 0.15);\n",
              "      filter: drop-shadow(0px 1px 2px rgba(0, 0, 0, 0.3));\n",
              "      fill: #FFFFFF;\n",
              "    }\n",
              "  </style>\n",
              "\n",
              "    <script>\n",
              "      const buttonEl =\n",
              "        document.querySelector('#df-d952dc2d-d680-4041-bb23-194f3e5277b1 button.colab-df-convert');\n",
              "      buttonEl.style.display =\n",
              "        google.colab.kernel.accessAllowed ? 'block' : 'none';\n",
              "\n",
              "      async function convertToInteractive(key) {\n",
              "        const element = document.querySelector('#df-d952dc2d-d680-4041-bb23-194f3e5277b1');\n",
              "        const dataTable =\n",
              "          await google.colab.kernel.invokeFunction('convertToInteractive',\n",
              "                                                    [key], {});\n",
              "        if (!dataTable) return;\n",
              "\n",
              "        const docLinkHtml = 'Like what you see? Visit the ' +\n",
              "          '<a target=\"_blank\" href=https://colab.research.google.com/notebooks/data_table.ipynb>data table notebook</a>'\n",
              "          + ' to learn more about interactive tables.';\n",
              "        element.innerHTML = '';\n",
              "        dataTable['output_type'] = 'display_data';\n",
              "        await google.colab.output.renderOutput(dataTable, element);\n",
              "        const docLink = document.createElement('div');\n",
              "        docLink.innerHTML = docLinkHtml;\n",
              "        element.appendChild(docLink);\n",
              "      }\n",
              "    </script>\n",
              "  </div>\n",
              "\n",
              "\n",
              "<div id=\"df-9f25b452-70c2-437d-827f-48874840a3b9\">\n",
              "  <button class=\"colab-df-quickchart\" onclick=\"quickchart('df-9f25b452-70c2-437d-827f-48874840a3b9')\"\n",
              "            title=\"Suggest charts\"\n",
              "            style=\"display:none;\">\n",
              "\n",
              "<svg xmlns=\"http://www.w3.org/2000/svg\" height=\"24px\"viewBox=\"0 0 24 24\"\n",
              "     width=\"24px\">\n",
              "    <g>\n",
              "        <path d=\"M19 3H5c-1.1 0-2 .9-2 2v14c0 1.1.9 2 2 2h14c1.1 0 2-.9 2-2V5c0-1.1-.9-2-2-2zM9 17H7v-7h2v7zm4 0h-2V7h2v10zm4 0h-2v-4h2v4z\"/>\n",
              "    </g>\n",
              "</svg>\n",
              "  </button>\n",
              "\n",
              "<style>\n",
              "  .colab-df-quickchart {\n",
              "      --bg-color: #E8F0FE;\n",
              "      --fill-color: #1967D2;\n",
              "      --hover-bg-color: #E2EBFA;\n",
              "      --hover-fill-color: #174EA6;\n",
              "      --disabled-fill-color: #AAA;\n",
              "      --disabled-bg-color: #DDD;\n",
              "  }\n",
              "\n",
              "  [theme=dark] .colab-df-quickchart {\n",
              "      --bg-color: #3B4455;\n",
              "      --fill-color: #D2E3FC;\n",
              "      --hover-bg-color: #434B5C;\n",
              "      --hover-fill-color: #FFFFFF;\n",
              "      --disabled-bg-color: #3B4455;\n",
              "      --disabled-fill-color: #666;\n",
              "  }\n",
              "\n",
              "  .colab-df-quickchart {\n",
              "    background-color: var(--bg-color);\n",
              "    border: none;\n",
              "    border-radius: 50%;\n",
              "    cursor: pointer;\n",
              "    display: none;\n",
              "    fill: var(--fill-color);\n",
              "    height: 32px;\n",
              "    padding: 0;\n",
              "    width: 32px;\n",
              "  }\n",
              "\n",
              "  .colab-df-quickchart:hover {\n",
              "    background-color: var(--hover-bg-color);\n",
              "    box-shadow: 0 1px 2px rgba(60, 64, 67, 0.3), 0 1px 3px 1px rgba(60, 64, 67, 0.15);\n",
              "    fill: var(--button-hover-fill-color);\n",
              "  }\n",
              "\n",
              "  .colab-df-quickchart-complete:disabled,\n",
              "  .colab-df-quickchart-complete:disabled:hover {\n",
              "    background-color: var(--disabled-bg-color);\n",
              "    fill: var(--disabled-fill-color);\n",
              "    box-shadow: none;\n",
              "  }\n",
              "\n",
              "  .colab-df-spinner {\n",
              "    border: 2px solid var(--fill-color);\n",
              "    border-color: transparent;\n",
              "    border-bottom-color: var(--fill-color);\n",
              "    animation:\n",
              "      spin 1s steps(1) infinite;\n",
              "  }\n",
              "\n",
              "  @keyframes spin {\n",
              "    0% {\n",
              "      border-color: transparent;\n",
              "      border-bottom-color: var(--fill-color);\n",
              "      border-left-color: var(--fill-color);\n",
              "    }\n",
              "    20% {\n",
              "      border-color: transparent;\n",
              "      border-left-color: var(--fill-color);\n",
              "      border-top-color: var(--fill-color);\n",
              "    }\n",
              "    30% {\n",
              "      border-color: transparent;\n",
              "      border-left-color: var(--fill-color);\n",
              "      border-top-color: var(--fill-color);\n",
              "      border-right-color: var(--fill-color);\n",
              "    }\n",
              "    40% {\n",
              "      border-color: transparent;\n",
              "      border-right-color: var(--fill-color);\n",
              "      border-top-color: var(--fill-color);\n",
              "    }\n",
              "    60% {\n",
              "      border-color: transparent;\n",
              "      border-right-color: var(--fill-color);\n",
              "    }\n",
              "    80% {\n",
              "      border-color: transparent;\n",
              "      border-right-color: var(--fill-color);\n",
              "      border-bottom-color: var(--fill-color);\n",
              "    }\n",
              "    90% {\n",
              "      border-color: transparent;\n",
              "      border-bottom-color: var(--fill-color);\n",
              "    }\n",
              "  }\n",
              "</style>\n",
              "\n",
              "  <script>\n",
              "    async function quickchart(key) {\n",
              "      const quickchartButtonEl =\n",
              "        document.querySelector('#' + key + ' button');\n",
              "      quickchartButtonEl.disabled = true;  // To prevent multiple clicks.\n",
              "      quickchartButtonEl.classList.add('colab-df-spinner');\n",
              "      try {\n",
              "        const charts = await google.colab.kernel.invokeFunction(\n",
              "            'suggestCharts', [key], {});\n",
              "      } catch (error) {\n",
              "        console.error('Error during call to suggestCharts:', error);\n",
              "      }\n",
              "      quickchartButtonEl.classList.remove('colab-df-spinner');\n",
              "      quickchartButtonEl.classList.add('colab-df-quickchart-complete');\n",
              "    }\n",
              "    (() => {\n",
              "      let quickchartButtonEl =\n",
              "        document.querySelector('#df-9f25b452-70c2-437d-827f-48874840a3b9 button');\n",
              "      quickchartButtonEl.style.display =\n",
              "        google.colab.kernel.accessAllowed ? 'block' : 'none';\n",
              "    })();\n",
              "  </script>\n",
              "</div>\n",
              "    </div>\n",
              "  </div>\n"
            ]
          },
          "metadata": {},
          "execution_count": 28
        }
      ]
    },
    {
      "cell_type": "markdown",
      "source": [
        "very nice! now let's make use of the preprocessed data and create our X and Y variables. Finally, we split the data to train and test to be compeletly ready to use the data for model's training and testing"
      ],
      "metadata": {
        "id": "EtRpIWGDCtjS"
      }
    },
    {
      "cell_type": "code",
      "source": [
        "X = df.drop('Outcome Variable', axis=1).values\n",
        "y = df['Outcome Variable'].values\n",
        "\n",
        "X_train, X_rest, y_train, y_rest = train_test_split(X, y, test_size=0.4, random_state=42)\n",
        "X_val, X_test, y_val, y_test = train_test_split(X_rest, y_rest, test_size=0.5, random_state=42)"
      ],
      "metadata": {
        "id": "iUh0D_XwB8EP"
      },
      "execution_count": null,
      "outputs": []
    },
    {
      "cell_type": "code",
      "source": [
        "X"
      ],
      "metadata": {
        "colab": {
          "base_uri": "https://localhost:8080/"
        },
        "id": "LBWMNbmtgyie",
        "outputId": "000b314e-a996-494c-bb4f-cc21879c0462"
      },
      "execution_count": null,
      "outputs": [
        {
          "output_type": "execute_result",
          "data": {
            "text/plain": [
              "array([[1., 0., 1., ..., 0., 0., 1.],\n",
              "       [0., 1., 1., ..., 1., 0., 1.],\n",
              "       [0., 1., 1., ..., 1., 0., 1.],\n",
              "       ...,\n",
              "       [1., 0., 1., ..., 0., 0., 0.],\n",
              "       [1., 0., 1., ..., 0., 0., 0.],\n",
              "       [1., 0., 1., ..., 0., 0., 0.]])"
            ]
          },
          "metadata": {},
          "execution_count": 30
        }
      ]
    },
    {
      "cell_type": "code",
      "source": [
        "y"
      ],
      "metadata": {
        "colab": {
          "base_uri": "https://localhost:8080/"
        },
        "id": "sp42vFt1XFV2",
        "outputId": "e7f864f6-2e77-4a96-e576-1d6342148fab"
      },
      "execution_count": null,
      "outputs": [
        {
          "output_type": "execute_result",
          "data": {
            "text/plain": [
              "array([1, 0, 0, 1, 1, 1, 1, 1, 0, 0, 1, 0, 0, 0, 0, 0, 0, 0, 1, 1, 1, 1,\n",
              "       0, 0, 0, 0, 0, 0, 0, 0, 0, 0, 0, 0, 1, 1, 1, 1, 1, 1, 1, 1, 1, 1,\n",
              "       1, 1, 1, 1, 1, 1, 0, 0, 1, 1, 1, 0, 0, 0, 0, 0, 0, 0, 0, 0, 0, 0,\n",
              "       0, 0, 0, 0, 0, 0, 0, 0, 0, 1, 1, 1, 1, 1, 1, 1, 1, 1, 1, 1, 1, 1,\n",
              "       1, 1, 1, 1, 1, 1, 1, 1, 1, 0, 0, 0, 0, 0, 0, 0, 0, 0, 1, 1, 1, 1,\n",
              "       1, 1, 0, 0, 0, 0, 0, 0, 0, 0, 0, 1, 1, 1, 1, 1, 1, 1, 1, 1, 1, 1,\n",
              "       1, 1, 1, 1, 1, 1, 1, 1, 1, 1, 1, 0, 0, 0, 0, 0, 0, 0, 0, 0, 0, 0,\n",
              "       0, 1, 1, 1, 1, 1, 0, 0, 0, 0, 0, 0, 0, 0, 0, 0, 0, 0, 0, 0, 0, 0,\n",
              "       0, 0, 0, 1, 1, 1, 1, 1, 1, 1, 1, 1, 1, 1, 1, 1, 1, 1, 1, 1, 1, 1,\n",
              "       1, 1, 1, 1, 0, 0, 0, 0, 0, 0, 0, 0, 0, 0, 0, 0, 0, 0, 0, 0, 0, 0,\n",
              "       0, 0, 0, 0, 1, 1, 1, 1, 1, 1, 1, 1, 1, 1, 1, 1, 1, 1, 1, 0, 0, 0,\n",
              "       0, 0, 0, 0, 0, 0, 0, 0, 0, 0, 0, 0, 0, 0, 0, 1, 1, 1, 1, 1, 1, 1,\n",
              "       1, 1, 1, 1, 1, 1, 1, 1, 1, 0, 0, 0, 0, 0, 0, 0, 0, 0, 0, 0, 0, 0,\n",
              "       1, 1, 1, 1, 1, 1, 1, 1, 1, 1, 1, 1, 1, 1, 1, 1, 1, 1, 0, 0, 0, 0,\n",
              "       0, 0, 0, 1, 1, 1, 1, 1, 1, 1, 1, 1, 1, 1, 1, 1, 1, 1, 1, 0, 0, 0,\n",
              "       0, 0, 0, 0, 0, 0, 1, 1, 1, 1, 1, 1, 1, 1, 1, 1, 1, 1, 1])"
            ]
          },
          "metadata": {},
          "execution_count": 31
        }
      ]
    },
    {
      "cell_type": "code",
      "source": [
        "print(\"X_train.shape: \" + str(X_train.shape))\n",
        "print(\"X_val.shape: \" + str(X_val.shape))\n",
        "print(\"X_test.shape:  \" + str(X_test.shape))\n",
        "print(\"y_train.shape: \" + str(y_train.shape))\n",
        "print(\"y_test.shape:  \" + str(y_test.shape))\n",
        "print(\"y_val.shape:  \" + str(y_val.shape))\n"
      ],
      "metadata": {
        "colab": {
          "base_uri": "https://localhost:8080/"
        },
        "id": "e1uTw6woXIQI",
        "outputId": "c5a9b75a-7a30-4b76-f8cd-86147df3685a"
      },
      "execution_count": null,
      "outputs": [
        {
          "output_type": "stream",
          "name": "stdout",
          "text": [
            "X_train.shape: (209, 125)\n",
            "X_val.shape: (70, 125)\n",
            "X_test.shape:  (70, 125)\n",
            "y_train.shape: (209,)\n",
            "y_test.shape:  (70,)\n",
            "y_val.shape:  (70,)\n"
          ]
        }
      ]
    },
    {
      "cell_type": "code",
      "source": [
        "X_train"
      ],
      "metadata": {
        "colab": {
          "base_uri": "https://localhost:8080/"
        },
        "id": "YJoCK6kueRb7",
        "outputId": "1d17bb97-6c98-48ab-f079-be7c976a60fd"
      },
      "execution_count": null,
      "outputs": [
        {
          "output_type": "execute_result",
          "data": {
            "text/plain": [
              "array([[0., 0., 1., ..., 1., 1., 0.],\n",
              "       [1., 1., 1., ..., 1., 0., 1.],\n",
              "       [0., 0., 1., ..., 0., 0., 0.],\n",
              "       ...,\n",
              "       [1., 0., 1., ..., 0., 0., 0.],\n",
              "       [0., 1., 0., ..., 1., 1., 0.],\n",
              "       [1., 1., 0., ..., 0., 0., 1.]])"
            ]
          },
          "metadata": {},
          "execution_count": 33
        }
      ]
    },
    {
      "cell_type": "markdown",
      "source": [
        "Now it's time to create our KNN class!\n",
        "But before that, let's create the function that is used so frequently in the prediction of our KNN class"
      ],
      "metadata": {
        "id": "ebzGX3tjYHvm"
      }
    },
    {
      "cell_type": "code",
      "source": [
        "import numpy as np"
      ],
      "metadata": {
        "id": "ZZ-HEvsfYcVd"
      },
      "execution_count": null,
      "outputs": []
    },
    {
      "cell_type": "code",
      "source": [
        "def euclidean_dist(x1, x2):\n",
        "    return np.sqrt(np.sum((x1 - x2) ** 2))"
      ],
      "metadata": {
        "id": "qfZOGHpGXdNe"
      },
      "execution_count": null,
      "outputs": []
    },
    {
      "cell_type": "markdown",
      "source": [
        "our KNN class is simple, after initialization of it and setting the K variable, two main **fit** and **predict** functions do the rest of the work"
      ],
      "metadata": {
        "id": "OL_tw-BtYikf"
      }
    },
    {
      "cell_type": "code",
      "source": [
        "class KNN:\n",
        "    def __init__(self, k=3):\n",
        "        self.k = k\n",
        "        self.X_train = None\n",
        "        self.y_train = None\n",
        "\n",
        "    def fit(self, X_train, y_train):\n",
        "        self.X_train = X_train\n",
        "        self.y_train = y_train\n",
        "\n",
        "    def predict(self, X):\n",
        "        predictions = [self.single_predict(x) for x in X]\n",
        "        return np.array(predictions)\n",
        "\n",
        "    def single_predict(self, x):\n",
        "        distances = [self.euclidean_dist(x, x_train) for x_train in self.X_train]\n",
        "        k_near_neighbors_indices = np.argsort(distances)[:self.k]\n",
        "        k_near_neighbor_labels = [self.y_train[i] for i in k_near_neighbors_indices]\n",
        "        vote = np.bincount(k_near_neighbor_labels).argmax()\n",
        "        return vote\n",
        "\n",
        "    def euclidean_dist(self, x1, x2):\n",
        "        return np.sqrt(np.sum((x1 - x2) ** 2))\n"
      ],
      "metadata": {
        "id": "ERWactpFYfz7"
      },
      "execution_count": null,
      "outputs": []
    },
    {
      "cell_type": "markdown",
      "source": [
        "but let's explain and use the **np.bincount** used in our class"
      ],
      "metadata": {
        "id": "BbnPvznCZyiR"
      }
    },
    {
      "cell_type": "code",
      "source": [
        "arr = [1, 1, 1, 1, 2, 2, 3, 4, 4, 4]\n",
        "print(\"occurrence of each number from 0 to max(arr)\")\n",
        "print(np.bincount(arr))"
      ],
      "metadata": {
        "colab": {
          "base_uri": "https://localhost:8080/"
        },
        "id": "Eowmc8LUZxJg",
        "outputId": "b80d7ae8-461b-4c9f-d773-74bf1c70b34a"
      },
      "execution_count": null,
      "outputs": [
        {
          "output_type": "stream",
          "name": "stdout",
          "text": [
            "occurrence of each number from 0 to max(arr)\n",
            "[0 4 2 1 3]\n"
          ]
        }
      ]
    },
    {
      "cell_type": "markdown",
      "source": [
        "now let's find the best value for k between 1 to 20!\n",
        "\n",
        "so we train a model for each of them and finally test it using the test set"
      ],
      "metadata": {
        "id": "EqxilePJcT6W"
      }
    },
    {
      "cell_type": "code",
      "source": [
        "import matplotlib.pyplot as plt\n",
        "from sklearn.metrics import accuracy_score\n",
        "\n",
        "best_k = None\n",
        "best_model = None\n",
        "best_accuracy = 0\n",
        "k_values = list(range(1, 21))\n",
        "accuracy_scores = []\n",
        "\n",
        "for k in k_values:\n",
        "    knn_model = KNN(k=k)\n",
        "    knn_model.fit(X_train, y_train)\n",
        "    y_val_pred = knn_model.predict(X_val)\n",
        "    accuracy = accuracy_score(y_val, y_val_pred)\n",
        "    accuracy_scores.append(accuracy)\n",
        "\n",
        "    if accuracy > best_accuracy:\n",
        "        best_accuracy = accuracy\n",
        "        best_k = k\n",
        "        best_model = knn_model\n",
        "\n",
        "plt.plot(k_values, accuracy_scores, marker='o')\n",
        "plt.title('Accuracy for Different k Values on Validation Data')\n",
        "plt.xlabel('k')\n",
        "plt.ylabel('Accuracy')\n",
        "plt.show()\n",
        "\n",
        "print(f\"Best k on Validation Data: {best_k}\")\n",
        "print(f\"Validation Accuracy with Best k: {best_accuracy:.4f}\")\n",
        "\n",
        "y_test_pred = best_model.predict(X_test)\n",
        "test_accuracy = accuracy_score(y_test, y_test_pred)\n",
        "print(f\"test Accuracy with Best k: {test_accuracy:.4f}\")"
      ],
      "metadata": {
        "colab": {
          "base_uri": "https://localhost:8080/",
          "height": 524
        },
        "id": "4x7E8Ym-aTHE",
        "outputId": "e54bfdb8-5a41-4588-ee12-e6d4af06491d"
      },
      "execution_count": null,
      "outputs": [
        {
          "output_type": "display_data",
          "data": {
            "text/plain": [
              "<Figure size 640x480 with 1 Axes>"
            ],
            "image/png": "[encoded data removed]"
          },
          "metadata": {}
        },
        {
          "output_type": "stream",
          "name": "stdout",
          "text": [
            "Best k on Validation Data: 1\n",
            "Validation Accuracy with Best k: 0.6714\n",
            "test Accuracy with Best k: 0.7429\n"
          ]
        }
      ]
    },
    {
      "cell_type": "markdown",
      "source": [
        "pretty interesting! It seems that as we are using one-hot encoding for all of our parameters, k=1 leads to the most accuarate and only the nearest symptoms can handle the situation better than other!"
      ],
      "metadata": {
        "id": "-NyKRzZErvGi"
      }
    },
    {
      "cell_type": "markdown",
      "source": [
        "b)"
      ],
      "metadata": {
        "id": "FdGCzLL370gb"
      }
    },
    {
      "cell_type": "markdown",
      "source": [
        "#### ROC curve which is also called Receiver Operating Characteristic curve, is a graphical representation of the trade-off between the true positive rate (sensitivity) and the false positive rate (1 - specificity) for a binary classification system.\n",
        "\n",
        "#### first, it calculates two parts:\n",
        "#### 1- True Positive Rate (Sensitivity): True Positives / (True Positives + False Negatives)\n",
        "\n",
        "####2- False Positive Rate (1 - Specificity):  False Positives / (True Negatives + False Positives)\n",
        "\n",
        "### Using the two provided parameters, it can be a pretty nice way to **Visualy** compare two model's performance and also helps for setting some hyperparameter thresholds based on our **usage**. Also, when there are imbalanced datasets, \"accuracy\" can not be such a good metric and ROC and other evaluating metrics are used often."
      ],
      "metadata": {
        "id": "P2szNJIl75xI"
      }
    },
    {
      "cell_type": "markdown",
      "source": [
        "first, we implement a new function to out KNN model to have a kind of probability of the outcome"
      ],
      "metadata": {
        "id": "jZOsvHjWXaZ6"
      }
    },
    {
      "cell_type": "code",
      "source": [
        "class KNN:\n",
        "    def __init__(self, k=3):\n",
        "        self.k = k\n",
        "        self.X_train = None\n",
        "        self.y_train = None\n",
        "\n",
        "    def fit(self, X_train, y_train):\n",
        "        self.X_train = X_train\n",
        "        self.y_train = y_train\n",
        "\n",
        "    def predict(self, X):\n",
        "        predictions = [self.single_predict(x) for x in X]\n",
        "        return np.array(predictions)\n",
        "\n",
        "    def single_predict(self, x):\n",
        "        distances = [self.euclidean_dist(x, x_train) for x_train in self.X_train]\n",
        "        k_near_neighbors_indices = np.argsort(distances)[:self.k]\n",
        "        k_near_neighbor_labels = [self.y_train[i] for i in k_near_neighbors_indices]\n",
        "        vote = np.bincount(k_near_neighbor_labels).argmax()\n",
        "        return vote\n",
        "\n",
        "    def euclidean_dist(self, x1, x2):\n",
        "        return np.sqrt(np.sum((x1 - x2) ** 2))\n",
        "\n",
        "    def single_predict_proba(self, x):\n",
        "      distances = [self.euclidean_dist(x, x_train) for x_train in self.X_train]\n",
        "      k_near_neighbors_indices = np.argsort(distances)[:self.k]\n",
        "      k_near_neighbor_labels = [self.y_train[i] for i in k_near_neighbors_indices]\n",
        "      return np.mean(k_near_neighbor_labels)\n"
      ],
      "metadata": {
        "id": "kR8OI2rCbvGA"
      },
      "execution_count": null,
      "outputs": []
    },
    {
      "cell_type": "markdown",
      "source": [
        "then we use the roc_curve and auc of sklearn.metrics"
      ],
      "metadata": {
        "id": "XlTLhzkJXwSz"
      }
    },
    {
      "cell_type": "code",
      "source": [
        "print(\"X_train shape: \" + str(X_train.shape))\n",
        "print(\"X_val shape: \" + str(X_val.shape))\n",
        "print(\"X_test shape: \" + str(X_test.shape))\n",
        "\n",
        "print(\"y_train shape: \" + str(y_train.shape))\n",
        "print(\"y_val shape: \" + str(y_val.shape))\n",
        "print(\"y_test shape: \" + str(y_test.shape))\n",
        "\n",
        "X_val"
      ],
      "metadata": {
        "colab": {
          "base_uri": "https://localhost:8080/"
        },
        "id": "A2i09K8eX73u",
        "outputId": "d6d01a82-e1f8-4ebb-b82e-618b7952e266"
      },
      "execution_count": null,
      "outputs": [
        {
          "output_type": "stream",
          "name": "stdout",
          "text": [
            "X_train shape: (209, 125)\n",
            "X_val shape: (70, 125)\n",
            "X_test shape: (70, 125)\n",
            "y_train shape: (209,)\n",
            "y_val shape: (70,)\n",
            "y_test shape: (70,)\n"
          ]
        },
        {
          "output_type": "execute_result",
          "data": {
            "text/plain": [
              "array([[0., 1., 0., ..., 1., 0., 0.],\n",
              "       [0., 0., 1., ..., 1., 0., 1.],\n",
              "       [0., 0., 1., ..., 1., 0., 0.],\n",
              "       ...,\n",
              "       [0., 0., 1., ..., 1., 0., 1.],\n",
              "       [0., 1., 0., ..., 1., 0., 0.],\n",
              "       [1., 0., 1., ..., 0., 0., 1.]])"
            ]
          },
          "metadata": {},
          "execution_count": 52
        }
      ]
    },
    {
      "cell_type": "code",
      "source": [
        "from sklearn.metrics import roc_curve, auc\n",
        "import matplotlib.pyplot as plt\n",
        "\n",
        "knn_model = KNN(3)\n",
        "knn_model.fit(X_train, y_train)\n",
        "y_val_scores = np.array([knn_model.single_predict_proba(x) for x in X_val])"
      ],
      "metadata": {
        "id": "3AJmcvRlXpXw"
      },
      "execution_count": null,
      "outputs": []
    },
    {
      "cell_type": "code",
      "source": [
        "y_val_scores"
      ],
      "metadata": {
        "colab": {
          "base_uri": "https://localhost:8080/"
        },
        "id": "lUEBWS8XakPO",
        "outputId": "52e1b307-dce3-432c-ffd6-44a2b33fb251"
      },
      "execution_count": null,
      "outputs": [
        {
          "output_type": "execute_result",
          "data": {
            "text/plain": [
              "array([0.33333333, 0.        , 0.33333333, 0.33333333, 0.33333333,\n",
              "       0.66666667, 0.        , 0.66666667, 0.        , 1.        ,\n",
              "       0.66666667, 0.33333333, 0.66666667, 1.        , 0.66666667,\n",
              "       0.33333333, 1.        , 0.66666667, 0.66666667, 0.33333333,\n",
              "       0.        , 0.33333333, 0.        , 0.66666667, 0.        ,\n",
              "       0.33333333, 1.        , 1.        , 0.        , 0.        ,\n",
              "       0.33333333, 0.66666667, 0.        , 0.66666667, 1.        ,\n",
              "       0.33333333, 0.33333333, 0.33333333, 0.33333333, 0.66666667,\n",
              "       0.33333333, 0.        , 1.        , 0.33333333, 0.        ,\n",
              "       1.        , 0.33333333, 1.        , 0.66666667, 1.        ,\n",
              "       1.        , 1.        , 1.        , 0.66666667, 0.33333333,\n",
              "       1.        , 0.66666667, 0.66666667, 1.        , 1.        ,\n",
              "       1.        , 0.        , 0.66666667, 0.        , 0.33333333,\n",
              "       0.33333333, 0.66666667, 0.        , 0.33333333, 0.66666667])"
            ]
          },
          "metadata": {},
          "execution_count": 82
        }
      ]
    },
    {
      "cell_type": "markdown",
      "source": [
        "so you can see now the probability have been used (a simple version that is using the mean of k votes!)\n",
        "\n",
        "**The good point is as the are only between 0 and 1, we do not need to scale the results!**\n",
        "\n",
        "after that we use the **roc_curve** function and for understanding out model's performance, we use the auc (Area Under the Curve) function that calculates the area under the ROC curve"
      ],
      "metadata": {
        "id": "pV5-itlFbIAh"
      }
    },
    {
      "cell_type": "code",
      "source": [
        "false_positive_rate, true_positive_rate , thresholds = roc_curve(y_val, y_val_scores)\n",
        "roc_auc = auc(false_positive_rate, true_positive_rate )\n",
        "\n",
        "plt.figure(figsize=(8, 8))\n",
        "plt.plot(false_positive_rate, true_positive_rate , color='darkorange', lw=2, label=f'ROC curve (area = {roc_auc:.2f})')\n",
        "plt.plot([0, 1], [0, 1], color='navy', lw=2, linestyle='--')\n",
        "plt.xlabel('False Positive Rate')\n",
        "plt.ylabel('True Positive Rate')\n",
        "plt.title('ROC Curve')\n",
        "plt.legend(loc=\"lower right\")\n",
        "plt.show()"
      ],
      "metadata": {
        "colab": {
          "base_uri": "https://localhost:8080/",
          "height": 718
        },
        "id": "y5B_8A_7bWa-",
        "outputId": "77a8d6af-4599-4cd9-c6a9-826453c4a14e"
      },
      "execution_count": null,
      "outputs": [
        {
          "output_type": "display_data",
          "data": {
            "text/plain": [
              "<Figure size 800x800 with 1 Axes>"
            ],
            "image/png": "[encoded data removed]"
          },
          "metadata": {}
        }
      ]
    },
    {
      "cell_type": "markdown",
      "source": [
        "so the AUC is 0.65 for k=3!\n",
        "for better understanding of classification models checkout these:\n",
        "\n",
        "\n",
        "*   AUC = 0.5: Random classifier (no discrimination between positive and negative classes).\n",
        "*   AUC < 0.5: Worse than random (inverted classifier).\n",
        "*   0.5 < AUC < 1: Better than random.\n",
        "*   AUC = 1: Perfect classifier!  🙂"
      ],
      "metadata": {
        "id": "gccDo0c2dXLK"
      }
    },
    {
      "cell_type": "markdown",
      "source": [
        "so totaly we know that using the KNN model that we have created with k=3 can not perform really well on the predictions.\n",
        "\n",
        "be careful that for example if we want to be more careful about possible diagnosis of the disease, we should pay more attention to the **True Positive Rate** and ..\n",
        "\n",
        "####But before finishing let's see what would our model be if we use k=1 (which we previously proved that k=1 is better for this situation)"
      ],
      "metadata": {
        "id": "S7hy8Qv-eGv4"
      }
    },
    {
      "cell_type": "code",
      "source": [
        "knn_model = KNN(best_k) #k=1\n",
        "knn_model.fit(X_train, y_train)\n",
        "y_val_scores = np.array([knn_model.single_predict_proba(x) for x in X_val])\n",
        "false_positive_rate, true_positive_rate , thresholds = roc_curve(y_val, y_val_scores)\n",
        "roc_auc = auc(false_positive_rate, true_positive_rate )\n",
        "\n",
        "plt.figure(figsize=(8, 8))\n",
        "plt.plot(false_positive_rate, true_positive_rate , color='darkorange', lw=2, label=f'ROC curve (area = {roc_auc:.2f})')\n",
        "plt.plot([0, 1], [0, 1], color='navy', lw=2, linestyle='--')\n",
        "plt.xlabel('False Positive Rate')\n",
        "plt.ylabel('True Positive Rate')\n",
        "plt.title('ROC Curve')\n",
        "plt.legend(loc=\"lower right\")\n",
        "plt.show()"
      ],
      "metadata": {
        "colab": {
          "base_uri": "https://localhost:8080/",
          "height": 718
        },
        "id": "1tSOvKkda0kx",
        "outputId": "94b9349a-e231-4ffe-a98c-b18fc3521f47"
      },
      "execution_count": null,
      "outputs": [
        {
          "output_type": "display_data",
          "data": {
            "text/plain": [
              "<Figure size 800x800 with 1 Axes>"
            ],
            "image/png": "[encoded data removed]"
          },
          "metadata": {}
        }
      ]
    },
    {
      "cell_type": "markdown",
      "source": [
        "great! the ROC curve proves that too! (k=1: ROC = 0.67 > 0.65 = ROC :3=k)"
      ],
      "metadata": {
        "id": "Wnr5OuzLfRTq"
      }
    },
    {
      "cell_type": "markdown",
      "source": [
        "#Well that's the end of this assignment. Bye bye! 😃"
      ],
      "metadata": {
        "id": "rzWgcOTOf0WH"
      }
    }
  ],
  "metadata": {
    "colab": {
      "provenance": []
    },
    "kernelspec": {
      "display_name": "Python 3",
      "name": "python3"
    },
    "language_info": {
      "name": "python"
    }
  },
  "nbformat": 4,
  "nbformat_minor": 0
}